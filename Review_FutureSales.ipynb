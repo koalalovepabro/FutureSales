{
 "cells": [
  {
   "cell_type": "markdown",
   "id": "82491861",
   "metadata": {},
   "source": [
    "# 상점 신용카드 매출 예측하기"
   ]
  },
  {
   "cell_type": "markdown",
   "id": "849a1dcd",
   "metadata": {},
   "source": [
    "2016.06.01 ~ 2019.02.28 까지의 신용카드 매출 데이터를 가지고  \n",
    "    2019.03.01 ~ 2019.05.31 까지의 상점별 3개월 총 매출을 예측하기"
   ]
  },
  {
   "cell_type": "markdown",
   "id": "8f4812ff",
   "metadata": {},
   "source": [
    "- 전통적인 금융권은 소상공인 대출 시 신용점수 또는 담보물 위주의 평가를 진행\n",
    "- 한국의 핀테크 기업인 'FUNDA(펀다)'는 상환 기간의 매출을 예측해  \n",
    "    신용 점수가 낮거나 담보가 없는 우수 상점에 금융 기회를 제공하려고 함\n",
    "- 대출 상점 총 매출 예측 경진대회는 상환기간의 '총매출'을 예측하는 모델을 만드는 것\n",
    "- 펀다에서는 예측된 매출을 기반으로 대출 한도를 설정함\n",
    "- 모델이 정확할수록 더 낮은 금리와 더 높은 한도를 제공함"
   ]
  },
  {
   "cell_type": "markdown",
   "id": "fce4862b",
   "metadata": {},
   "source": [
    "### 경진대회 개요"
   ]
  },
  {
   "cell_type": "markdown",
   "id": "8948e43b",
   "metadata": {},
   "source": [
    "주최자 | 펀다, 데이콘\n",
    ":-----|:-----\n",
    "총 상금 | 100만원 \n",
    "문제 유형 | 시계열 회귀 분석 (Time Series Regression Analysis)\n",
    "평가 척도 | MAE\n",
    "대회 기간 | 2019년 7월 11일 ~ 2019년 8월 31일\n",
    "대회 참여팀 | 292팀"
   ]
  },
  {
   "cell_type": "markdown",
   "id": "393df958",
   "metadata": {},
   "source": [
    "## 1. 데이터 살펴보기"
   ]
  },
  {
   "cell_type": "code",
   "execution_count": 1,
   "id": "be0ad74d",
   "metadata": {},
   "outputs": [],
   "source": [
    "import pandas as pd\n",
    "import os\n",
    "import warnings\n",
    "\n",
    "warnings.filterwarnings(\"ignore\")\n",
    "\n",
    "# 데이터 읽어오기\n",
    "train = pd.read_csv('./funda_train.csv')\n",
    "submission = pd.read_csv('./submission.csv')"
   ]
  },
  {
   "cell_type": "code",
   "execution_count": 2,
   "id": "b2f3f493",
   "metadata": {},
   "outputs": [
    {
     "data": {
      "text/plain": [
       "(6556613, 9)"
      ]
     },
     "execution_count": 2,
     "metadata": {},
     "output_type": "execute_result"
    }
   ],
   "source": [
    "train.shape"
   ]
  },
  {
   "cell_type": "code",
   "execution_count": 3,
   "id": "5e800370",
   "metadata": {},
   "outputs": [
    {
     "data": {
      "text/html": [
       "<div>\n",
       "<style scoped>\n",
       "    .dataframe tbody tr th:only-of-type {\n",
       "        vertical-align: middle;\n",
       "    }\n",
       "\n",
       "    .dataframe tbody tr th {\n",
       "        vertical-align: top;\n",
       "    }\n",
       "\n",
       "    .dataframe thead th {\n",
       "        text-align: right;\n",
       "    }\n",
       "</style>\n",
       "<table border=\"1\" class=\"dataframe\">\n",
       "  <thead>\n",
       "    <tr style=\"text-align: right;\">\n",
       "      <th></th>\n",
       "      <th>store_id</th>\n",
       "      <th>card_id</th>\n",
       "      <th>card_company</th>\n",
       "      <th>transacted_date</th>\n",
       "      <th>transacted_time</th>\n",
       "      <th>installment_term</th>\n",
       "      <th>region</th>\n",
       "      <th>type_of_business</th>\n",
       "      <th>amount</th>\n",
       "    </tr>\n",
       "  </thead>\n",
       "  <tbody>\n",
       "    <tr>\n",
       "      <td>0</td>\n",
       "      <td>0</td>\n",
       "      <td>0</td>\n",
       "      <td>b</td>\n",
       "      <td>2016-06-01</td>\n",
       "      <td>13:13</td>\n",
       "      <td>0</td>\n",
       "      <td>NaN</td>\n",
       "      <td>기타 미용업</td>\n",
       "      <td>1857.142857</td>\n",
       "    </tr>\n",
       "    <tr>\n",
       "      <td>1</td>\n",
       "      <td>0</td>\n",
       "      <td>1</td>\n",
       "      <td>h</td>\n",
       "      <td>2016-06-01</td>\n",
       "      <td>18:12</td>\n",
       "      <td>0</td>\n",
       "      <td>NaN</td>\n",
       "      <td>기타 미용업</td>\n",
       "      <td>857.142857</td>\n",
       "    </tr>\n",
       "    <tr>\n",
       "      <td>2</td>\n",
       "      <td>0</td>\n",
       "      <td>2</td>\n",
       "      <td>c</td>\n",
       "      <td>2016-06-01</td>\n",
       "      <td>18:52</td>\n",
       "      <td>0</td>\n",
       "      <td>NaN</td>\n",
       "      <td>기타 미용업</td>\n",
       "      <td>2000.000000</td>\n",
       "    </tr>\n",
       "    <tr>\n",
       "      <td>3</td>\n",
       "      <td>0</td>\n",
       "      <td>3</td>\n",
       "      <td>a</td>\n",
       "      <td>2016-06-01</td>\n",
       "      <td>20:22</td>\n",
       "      <td>0</td>\n",
       "      <td>NaN</td>\n",
       "      <td>기타 미용업</td>\n",
       "      <td>7857.142857</td>\n",
       "    </tr>\n",
       "    <tr>\n",
       "      <td>4</td>\n",
       "      <td>0</td>\n",
       "      <td>4</td>\n",
       "      <td>c</td>\n",
       "      <td>2016-06-02</td>\n",
       "      <td>11:06</td>\n",
       "      <td>0</td>\n",
       "      <td>NaN</td>\n",
       "      <td>기타 미용업</td>\n",
       "      <td>2000.000000</td>\n",
       "    </tr>\n",
       "  </tbody>\n",
       "</table>\n",
       "</div>"
      ],
      "text/plain": [
       "   store_id  card_id card_company transacted_date transacted_time  \\\n",
       "0         0        0            b      2016-06-01           13:13   \n",
       "1         0        1            h      2016-06-01           18:12   \n",
       "2         0        2            c      2016-06-01           18:52   \n",
       "3         0        3            a      2016-06-01           20:22   \n",
       "4         0        4            c      2016-06-02           11:06   \n",
       "\n",
       "   installment_term region type_of_business       amount  \n",
       "0                 0    NaN           기타 미용업  1857.142857  \n",
       "1                 0    NaN           기타 미용업   857.142857  \n",
       "2                 0    NaN           기타 미용업  2000.000000  \n",
       "3                 0    NaN           기타 미용업  7857.142857  \n",
       "4                 0    NaN           기타 미용업  2000.000000  "
      ]
     },
     "execution_count": 3,
     "metadata": {},
     "output_type": "execute_result"
    }
   ],
   "source": [
    "train.head()"
   ]
  },
  {
   "cell_type": "code",
   "execution_count": 4,
   "id": "633f3c02",
   "metadata": {},
   "outputs": [
    {
     "data": {
      "text/html": [
       "<div>\n",
       "<style scoped>\n",
       "    .dataframe tbody tr th:only-of-type {\n",
       "        vertical-align: middle;\n",
       "    }\n",
       "\n",
       "    .dataframe tbody tr th {\n",
       "        vertical-align: top;\n",
       "    }\n",
       "\n",
       "    .dataframe thead th {\n",
       "        text-align: right;\n",
       "    }\n",
       "</style>\n",
       "<table border=\"1\" class=\"dataframe\">\n",
       "  <thead>\n",
       "    <tr style=\"text-align: right;\">\n",
       "      <th></th>\n",
       "      <th>store_id</th>\n",
       "      <th>card_id</th>\n",
       "      <th>card_company</th>\n",
       "      <th>transacted_date</th>\n",
       "      <th>transacted_time</th>\n",
       "      <th>installment_term</th>\n",
       "      <th>region</th>\n",
       "      <th>type_of_business</th>\n",
       "      <th>amount</th>\n",
       "    </tr>\n",
       "  </thead>\n",
       "  <tbody>\n",
       "    <tr>\n",
       "      <td>6556608</td>\n",
       "      <td>2136</td>\n",
       "      <td>4663855</td>\n",
       "      <td>d</td>\n",
       "      <td>2019-02-28</td>\n",
       "      <td>23:20</td>\n",
       "      <td>0</td>\n",
       "      <td>제주 제주시</td>\n",
       "      <td>기타 주점업</td>\n",
       "      <td>-4500.000000</td>\n",
       "    </tr>\n",
       "    <tr>\n",
       "      <td>6556609</td>\n",
       "      <td>2136</td>\n",
       "      <td>4663855</td>\n",
       "      <td>d</td>\n",
       "      <td>2019-02-28</td>\n",
       "      <td>23:24</td>\n",
       "      <td>0</td>\n",
       "      <td>제주 제주시</td>\n",
       "      <td>기타 주점업</td>\n",
       "      <td>4142.857143</td>\n",
       "    </tr>\n",
       "    <tr>\n",
       "      <td>6556610</td>\n",
       "      <td>2136</td>\n",
       "      <td>4663489</td>\n",
       "      <td>a</td>\n",
       "      <td>2019-02-28</td>\n",
       "      <td>23:24</td>\n",
       "      <td>0</td>\n",
       "      <td>제주 제주시</td>\n",
       "      <td>기타 주점업</td>\n",
       "      <td>4500.000000</td>\n",
       "    </tr>\n",
       "    <tr>\n",
       "      <td>6556611</td>\n",
       "      <td>2136</td>\n",
       "      <td>4663856</td>\n",
       "      <td>d</td>\n",
       "      <td>2019-02-28</td>\n",
       "      <td>23:27</td>\n",
       "      <td>0</td>\n",
       "      <td>제주 제주시</td>\n",
       "      <td>기타 주점업</td>\n",
       "      <td>571.428571</td>\n",
       "    </tr>\n",
       "    <tr>\n",
       "      <td>6556612</td>\n",
       "      <td>2136</td>\n",
       "      <td>4658616</td>\n",
       "      <td>c</td>\n",
       "      <td>2019-02-28</td>\n",
       "      <td>23:54</td>\n",
       "      <td>0</td>\n",
       "      <td>제주 제주시</td>\n",
       "      <td>기타 주점업</td>\n",
       "      <td>5857.142857</td>\n",
       "    </tr>\n",
       "  </tbody>\n",
       "</table>\n",
       "</div>"
      ],
      "text/plain": [
       "         store_id  card_id card_company transacted_date transacted_time  \\\n",
       "6556608      2136  4663855            d      2019-02-28           23:20   \n",
       "6556609      2136  4663855            d      2019-02-28           23:24   \n",
       "6556610      2136  4663489            a      2019-02-28           23:24   \n",
       "6556611      2136  4663856            d      2019-02-28           23:27   \n",
       "6556612      2136  4658616            c      2019-02-28           23:54   \n",
       "\n",
       "         installment_term  region type_of_business       amount  \n",
       "6556608                 0  제주 제주시           기타 주점업 -4500.000000  \n",
       "6556609                 0  제주 제주시           기타 주점업  4142.857143  \n",
       "6556610                 0  제주 제주시           기타 주점업  4500.000000  \n",
       "6556611                 0  제주 제주시           기타 주점업   571.428571  \n",
       "6556612                 0  제주 제주시           기타 주점업  5857.142857  "
      ]
     },
     "execution_count": 4,
     "metadata": {},
     "output_type": "execute_result"
    }
   ],
   "source": [
    "train.tail()"
   ]
  },
  {
   "cell_type": "code",
   "execution_count": 5,
   "id": "0e0d9d24",
   "metadata": {
    "scrolled": true
   },
   "outputs": [
    {
     "name": "stdout",
     "output_type": "stream",
     "text": [
      "<class 'pandas.core.frame.DataFrame'>\n",
      "RangeIndex: 6556613 entries, 0 to 6556612\n",
      "Data columns (total 9 columns):\n",
      "store_id            int64\n",
      "card_id             int64\n",
      "card_company        object\n",
      "transacted_date     object\n",
      "transacted_time     object\n",
      "installment_term    int64\n",
      "region              object\n",
      "type_of_business    object\n",
      "amount              float64\n",
      "dtypes: float64(1), int64(3), object(5)\n",
      "memory usage: 450.2+ MB\n"
     ]
    }
   ],
   "source": [
    "train.info()"
   ]
  },
  {
   "cell_type": "markdown",
   "id": "1ee82a38",
   "metadata": {},
   "source": [
    "#### 컬럼설명  \n",
    "1. store_id (int64) : 상점의 고유 아이디   \n",
    "2. card_id (int64) : 사용한 카드의 고유 아이디  \n",
    "3. card_company (object) : 비식별화된 카드 회사  \n",
    "4. transacted_date (object) : 거래날짜  \n",
    "5. transacted_time (object) : 거래시간(시:분)  \n",
    "6. installment_term (int64) : 할부개월수(포인트 사용 시 '60개월+실제할부개월'을 할부개월수에 기재함)  \n",
    "7. region (object) : 상점의 지역  \n",
    "8. type_of_business (object): 상점의 업종  \n",
    "9. amount (float64): 매출액(단위는 원이 아님)"
   ]
  },
  {
   "cell_type": "code",
   "execution_count": 6,
   "id": "eacbd25d",
   "metadata": {
    "scrolled": true
   },
   "outputs": [
    {
     "data": {
      "text/html": [
       "<div>\n",
       "<style scoped>\n",
       "    .dataframe tbody tr th:only-of-type {\n",
       "        vertical-align: middle;\n",
       "    }\n",
       "\n",
       "    .dataframe tbody tr th {\n",
       "        vertical-align: top;\n",
       "    }\n",
       "\n",
       "    .dataframe thead th {\n",
       "        text-align: right;\n",
       "    }\n",
       "</style>\n",
       "<table border=\"1\" class=\"dataframe\">\n",
       "  <thead>\n",
       "    <tr style=\"text-align: right;\">\n",
       "      <th></th>\n",
       "      <th>store_id</th>\n",
       "      <th>card_id</th>\n",
       "      <th>installment_term</th>\n",
       "      <th>amount</th>\n",
       "    </tr>\n",
       "  </thead>\n",
       "  <tbody>\n",
       "    <tr>\n",
       "      <td>count</td>\n",
       "      <td>6.556613e+06</td>\n",
       "      <td>6.556613e+06</td>\n",
       "      <td>6.556613e+06</td>\n",
       "      <td>6.556613e+06</td>\n",
       "    </tr>\n",
       "    <tr>\n",
       "      <td>mean</td>\n",
       "      <td>1.084930e+03</td>\n",
       "      <td>2.268127e+06</td>\n",
       "      <td>1.382017e-01</td>\n",
       "      <td>1.043511e+04</td>\n",
       "    </tr>\n",
       "    <tr>\n",
       "      <td>std</td>\n",
       "      <td>6.152183e+02</td>\n",
       "      <td>1.351058e+06</td>\n",
       "      <td>1.188152e+00</td>\n",
       "      <td>3.104031e+04</td>\n",
       "    </tr>\n",
       "    <tr>\n",
       "      <td>min</td>\n",
       "      <td>0.000000e+00</td>\n",
       "      <td>0.000000e+00</td>\n",
       "      <td>0.000000e+00</td>\n",
       "      <td>-2.771429e+06</td>\n",
       "    </tr>\n",
       "    <tr>\n",
       "      <td>25%</td>\n",
       "      <td>5.860000e+02</td>\n",
       "      <td>1.088828e+06</td>\n",
       "      <td>0.000000e+00</td>\n",
       "      <td>2.142857e+03</td>\n",
       "    </tr>\n",
       "    <tr>\n",
       "      <td>50%</td>\n",
       "      <td>1.074000e+03</td>\n",
       "      <td>2.239304e+06</td>\n",
       "      <td>0.000000e+00</td>\n",
       "      <td>4.285714e+03</td>\n",
       "    </tr>\n",
       "    <tr>\n",
       "      <td>75%</td>\n",
       "      <td>1.615000e+03</td>\n",
       "      <td>3.438488e+06</td>\n",
       "      <td>0.000000e+00</td>\n",
       "      <td>8.571429e+03</td>\n",
       "    </tr>\n",
       "    <tr>\n",
       "      <td>max</td>\n",
       "      <td>2.136000e+03</td>\n",
       "      <td>4.663856e+06</td>\n",
       "      <td>9.300000e+01</td>\n",
       "      <td>5.571429e+06</td>\n",
       "    </tr>\n",
       "  </tbody>\n",
       "</table>\n",
       "</div>"
      ],
      "text/plain": [
       "           store_id       card_id  installment_term        amount\n",
       "count  6.556613e+06  6.556613e+06      6.556613e+06  6.556613e+06\n",
       "mean   1.084930e+03  2.268127e+06      1.382017e-01  1.043511e+04\n",
       "std    6.152183e+02  1.351058e+06      1.188152e+00  3.104031e+04\n",
       "min    0.000000e+00  0.000000e+00      0.000000e+00 -2.771429e+06\n",
       "25%    5.860000e+02  1.088828e+06      0.000000e+00  2.142857e+03\n",
       "50%    1.074000e+03  2.239304e+06      0.000000e+00  4.285714e+03\n",
       "75%    1.615000e+03  3.438488e+06      0.000000e+00  8.571429e+03\n",
       "max    2.136000e+03  4.663856e+06      9.300000e+01  5.571429e+06"
      ]
     },
     "execution_count": 6,
     "metadata": {},
     "output_type": "execute_result"
    }
   ],
   "source": [
    "train.describe()"
   ]
  },
  {
   "cell_type": "code",
   "execution_count": 7,
   "id": "a4f56d1c",
   "metadata": {},
   "outputs": [
    {
     "data": {
      "text/plain": [
       "store_id                  0\n",
       "card_id                   0\n",
       "card_company              0\n",
       "transacted_date           0\n",
       "transacted_time           0\n",
       "installment_term          0\n",
       "region              2042766\n",
       "type_of_business    3952609\n",
       "amount                    0\n",
       "dtype: int64"
      ]
     },
     "execution_count": 7,
     "metadata": {},
     "output_type": "execute_result"
    }
   ],
   "source": [
    "train.isnull().sum()"
   ]
  },
  {
   "cell_type": "markdown",
   "id": "092884bd",
   "metadata": {},
   "source": [
    "region과 type_of_business에 결측치가 있다는 것을 알 수 있다."
   ]
  },
  {
   "cell_type": "code",
   "execution_count": 8,
   "id": "597c4748",
   "metadata": {},
   "outputs": [
    {
     "data": {
      "text/plain": [
       "경기 수원시    122029\n",
       "충북 청주시    116766\n",
       "경남 창원시    107147\n",
       "경남 김해시    100673\n",
       "경기 평택시     82138\n",
       "           ...  \n",
       "경남 거창군      1143\n",
       "서울 관악구      1037\n",
       "경남 함안군       878\n",
       "경북 영천시       849\n",
       "전남 완도군       681\n",
       "Name: region, Length: 180, dtype: int64"
      ]
     },
     "execution_count": 8,
     "metadata": {},
     "output_type": "execute_result"
    }
   ],
   "source": [
    "train['region'].value_counts()"
   ]
  },
  {
   "cell_type": "markdown",
   "id": "34af327c",
   "metadata": {},
   "source": [
    "region의 value는 180가지"
   ]
  },
  {
   "cell_type": "code",
   "execution_count": 9,
   "id": "2b465a28",
   "metadata": {},
   "outputs": [
    {
     "data": {
      "text/plain": [
       "한식 음식점업                     745905\n",
       "두발 미용업                      178475\n",
       "의복 소매업                      158234\n",
       "기타 주점업                      102413\n",
       "치킨 전문점                       89277\n",
       "                             ...  \n",
       "곡물 및 기타 식량작물 재배업               569\n",
       "주방용품 및 가정용 유리, 요업 제품 소매업       551\n",
       "배전반 및 전기 자동제어반 제조업             533\n",
       "그 외 기타 생활용품 도매업                519\n",
       "신선식품 및 단순 가공식품 도매업             231\n",
       "Name: type_of_business, Length: 145, dtype: int64"
      ]
     },
     "execution_count": 9,
     "metadata": {},
     "output_type": "execute_result"
    }
   ],
   "source": [
    "train['type_of_business'].value_counts()"
   ]
  },
  {
   "cell_type": "markdown",
   "id": "2bb26968",
   "metadata": {},
   "source": [
    "type_of_business의 value는 145가지"
   ]
  },
  {
   "cell_type": "code",
   "execution_count": 10,
   "id": "6000e18d",
   "metadata": {},
   "outputs": [
    {
     "data": {
      "text/plain": [
       "1330    9518\n",
       "1196    9471\n",
       "1171    9391\n",
       "710     9347\n",
       "826     9328\n",
       "        ... \n",
       "1974     429\n",
       "1240     426\n",
       "795      231\n",
       "2119     112\n",
       "1063      72\n",
       "Name: store_id, Length: 1967, dtype: int64"
      ]
     },
     "execution_count": 10,
     "metadata": {},
     "output_type": "execute_result"
    }
   ],
   "source": [
    "train['store_id'].value_counts()"
   ]
  },
  {
   "cell_type": "markdown",
   "id": "42634668",
   "metadata": {},
   "source": [
    "상점의 갯수는 1,967개"
   ]
  },
  {
   "cell_type": "code",
   "execution_count": 11,
   "id": "e4386fb0",
   "metadata": {},
   "outputs": [
    {
     "data": {
      "text/html": [
       "<div>\n",
       "<style scoped>\n",
       "    .dataframe tbody tr th:only-of-type {\n",
       "        vertical-align: middle;\n",
       "    }\n",
       "\n",
       "    .dataframe tbody tr th {\n",
       "        vertical-align: top;\n",
       "    }\n",
       "\n",
       "    .dataframe thead th {\n",
       "        text-align: right;\n",
       "    }\n",
       "</style>\n",
       "<table border=\"1\" class=\"dataframe\">\n",
       "  <thead>\n",
       "    <tr style=\"text-align: right;\">\n",
       "      <th></th>\n",
       "      <th>store_id</th>\n",
       "      <th>card_id</th>\n",
       "      <th>card_company</th>\n",
       "      <th>transacted_date</th>\n",
       "      <th>transacted_time</th>\n",
       "      <th>installment_term</th>\n",
       "      <th>region</th>\n",
       "      <th>type_of_business</th>\n",
       "      <th>amount</th>\n",
       "    </tr>\n",
       "  </thead>\n",
       "  <tbody>\n",
       "    <tr>\n",
       "      <td>41</td>\n",
       "      <td>0</td>\n",
       "      <td>40</td>\n",
       "      <td>a</td>\n",
       "      <td>2016-06-10</td>\n",
       "      <td>17:26</td>\n",
       "      <td>2</td>\n",
       "      <td>NaN</td>\n",
       "      <td>기타 미용업</td>\n",
       "      <td>-8571.428571</td>\n",
       "    </tr>\n",
       "    <tr>\n",
       "      <td>347</td>\n",
       "      <td>0</td>\n",
       "      <td>285</td>\n",
       "      <td>a</td>\n",
       "      <td>2016-08-04</td>\n",
       "      <td>17:52</td>\n",
       "      <td>0</td>\n",
       "      <td>NaN</td>\n",
       "      <td>기타 미용업</td>\n",
       "      <td>-1857.142857</td>\n",
       "    </tr>\n",
       "    <tr>\n",
       "      <td>731</td>\n",
       "      <td>0</td>\n",
       "      <td>473</td>\n",
       "      <td>g</td>\n",
       "      <td>2016-10-17</td>\n",
       "      <td>10:32</td>\n",
       "      <td>0</td>\n",
       "      <td>NaN</td>\n",
       "      <td>기타 미용업</td>\n",
       "      <td>-2000.000000</td>\n",
       "    </tr>\n",
       "    <tr>\n",
       "      <td>831</td>\n",
       "      <td>0</td>\n",
       "      <td>230</td>\n",
       "      <td>b</td>\n",
       "      <td>2016-11-03</td>\n",
       "      <td>15:36</td>\n",
       "      <td>0</td>\n",
       "      <td>NaN</td>\n",
       "      <td>기타 미용업</td>\n",
       "      <td>-85.714286</td>\n",
       "    </tr>\n",
       "    <tr>\n",
       "      <td>944</td>\n",
       "      <td>0</td>\n",
       "      <td>138</td>\n",
       "      <td>a</td>\n",
       "      <td>2016-11-28</td>\n",
       "      <td>13:21</td>\n",
       "      <td>0</td>\n",
       "      <td>NaN</td>\n",
       "      <td>기타 미용업</td>\n",
       "      <td>-57.142857</td>\n",
       "    </tr>\n",
       "    <tr>\n",
       "      <td>...</td>\n",
       "      <td>...</td>\n",
       "      <td>...</td>\n",
       "      <td>...</td>\n",
       "      <td>...</td>\n",
       "      <td>...</td>\n",
       "      <td>...</td>\n",
       "      <td>...</td>\n",
       "      <td>...</td>\n",
       "      <td>...</td>\n",
       "    </tr>\n",
       "    <tr>\n",
       "      <td>6556242</td>\n",
       "      <td>2136</td>\n",
       "      <td>4663626</td>\n",
       "      <td>b</td>\n",
       "      <td>2019-02-01</td>\n",
       "      <td>21:19</td>\n",
       "      <td>0</td>\n",
       "      <td>제주 제주시</td>\n",
       "      <td>기타 주점업</td>\n",
       "      <td>-13428.571429</td>\n",
       "    </tr>\n",
       "    <tr>\n",
       "      <td>6556448</td>\n",
       "      <td>2136</td>\n",
       "      <td>4663760</td>\n",
       "      <td>d</td>\n",
       "      <td>2019-02-15</td>\n",
       "      <td>00:46</td>\n",
       "      <td>0</td>\n",
       "      <td>제주 제주시</td>\n",
       "      <td>기타 주점업</td>\n",
       "      <td>-6928.571429</td>\n",
       "    </tr>\n",
       "    <tr>\n",
       "      <td>6556485</td>\n",
       "      <td>2136</td>\n",
       "      <td>4663779</td>\n",
       "      <td>b</td>\n",
       "      <td>2019-02-18</td>\n",
       "      <td>02:45</td>\n",
       "      <td>0</td>\n",
       "      <td>제주 제주시</td>\n",
       "      <td>기타 주점업</td>\n",
       "      <td>-5571.428571</td>\n",
       "    </tr>\n",
       "    <tr>\n",
       "      <td>6556489</td>\n",
       "      <td>2136</td>\n",
       "      <td>4663780</td>\n",
       "      <td>d</td>\n",
       "      <td>2019-02-18</td>\n",
       "      <td>21:43</td>\n",
       "      <td>0</td>\n",
       "      <td>제주 제주시</td>\n",
       "      <td>기타 주점업</td>\n",
       "      <td>-8571.428571</td>\n",
       "    </tr>\n",
       "    <tr>\n",
       "      <td>6556608</td>\n",
       "      <td>2136</td>\n",
       "      <td>4663855</td>\n",
       "      <td>d</td>\n",
       "      <td>2019-02-28</td>\n",
       "      <td>23:20</td>\n",
       "      <td>0</td>\n",
       "      <td>제주 제주시</td>\n",
       "      <td>기타 주점업</td>\n",
       "      <td>-4500.000000</td>\n",
       "    </tr>\n",
       "  </tbody>\n",
       "</table>\n",
       "<p>73100 rows × 9 columns</p>\n",
       "</div>"
      ],
      "text/plain": [
       "         store_id  card_id card_company transacted_date transacted_time  \\\n",
       "41              0       40            a      2016-06-10           17:26   \n",
       "347             0      285            a      2016-08-04           17:52   \n",
       "731             0      473            g      2016-10-17           10:32   \n",
       "831             0      230            b      2016-11-03           15:36   \n",
       "944             0      138            a      2016-11-28           13:21   \n",
       "...           ...      ...          ...             ...             ...   \n",
       "6556242      2136  4663626            b      2019-02-01           21:19   \n",
       "6556448      2136  4663760            d      2019-02-15           00:46   \n",
       "6556485      2136  4663779            b      2019-02-18           02:45   \n",
       "6556489      2136  4663780            d      2019-02-18           21:43   \n",
       "6556608      2136  4663855            d      2019-02-28           23:20   \n",
       "\n",
       "         installment_term  region type_of_business        amount  \n",
       "41                      2     NaN           기타 미용업  -8571.428571  \n",
       "347                     0     NaN           기타 미용업  -1857.142857  \n",
       "731                     0     NaN           기타 미용업  -2000.000000  \n",
       "831                     0     NaN           기타 미용업    -85.714286  \n",
       "944                     0     NaN           기타 미용업    -57.142857  \n",
       "...                   ...     ...              ...           ...  \n",
       "6556242                 0  제주 제주시           기타 주점업 -13428.571429  \n",
       "6556448                 0  제주 제주시           기타 주점업  -6928.571429  \n",
       "6556485                 0  제주 제주시           기타 주점업  -5571.428571  \n",
       "6556489                 0  제주 제주시           기타 주점업  -8571.428571  \n",
       "6556608                 0  제주 제주시           기타 주점업  -4500.000000  \n",
       "\n",
       "[73100 rows x 9 columns]"
      ]
     },
     "execution_count": 11,
     "metadata": {},
     "output_type": "execute_result"
    }
   ],
   "source": [
    "train[train['amount']<0]"
   ]
  },
  {
   "cell_type": "markdown",
   "id": "afcb855e",
   "metadata": {},
   "source": [
    "amounts 값 중 음수가 있음을 확인 -> 이상치"
   ]
  },
  {
   "cell_type": "markdown",
   "id": "c7dd5931",
   "metadata": {},
   "source": [
    "## 2. 데이터 전처리"
   ]
  },
  {
   "cell_type": "markdown",
   "id": "d65d37f9",
   "metadata": {},
   "source": [
    "### 2-1. 노이즈 제거"
   ]
  },
  {
   "cell_type": "code",
   "execution_count": 12,
   "id": "5c27aff7",
   "metadata": {},
   "outputs": [
    {
     "data": {
      "text/html": [
       "<div>\n",
       "<style scoped>\n",
       "    .dataframe tbody tr th:only-of-type {\n",
       "        vertical-align: middle;\n",
       "    }\n",
       "\n",
       "    .dataframe tbody tr th {\n",
       "        vertical-align: top;\n",
       "    }\n",
       "\n",
       "    .dataframe thead th {\n",
       "        text-align: right;\n",
       "    }\n",
       "</style>\n",
       "<table border=\"1\" class=\"dataframe\">\n",
       "  <thead>\n",
       "    <tr style=\"text-align: right;\">\n",
       "      <th></th>\n",
       "      <th>store_id</th>\n",
       "      <th>card_id</th>\n",
       "      <th>card_company</th>\n",
       "      <th>transacted_date</th>\n",
       "      <th>transacted_time</th>\n",
       "      <th>installment_term</th>\n",
       "      <th>region</th>\n",
       "      <th>type_of_business</th>\n",
       "      <th>amount</th>\n",
       "    </tr>\n",
       "  </thead>\n",
       "  <tbody>\n",
       "    <tr>\n",
       "      <td>0</td>\n",
       "      <td>0</td>\n",
       "      <td>0</td>\n",
       "      <td>b</td>\n",
       "      <td>2016-06-01</td>\n",
       "      <td>13:13</td>\n",
       "      <td>0</td>\n",
       "      <td>NaN</td>\n",
       "      <td>기타 미용업</td>\n",
       "      <td>1857.142857</td>\n",
       "    </tr>\n",
       "    <tr>\n",
       "      <td>1</td>\n",
       "      <td>0</td>\n",
       "      <td>1</td>\n",
       "      <td>h</td>\n",
       "      <td>2016-06-01</td>\n",
       "      <td>18:12</td>\n",
       "      <td>0</td>\n",
       "      <td>NaN</td>\n",
       "      <td>기타 미용업</td>\n",
       "      <td>857.142857</td>\n",
       "    </tr>\n",
       "    <tr>\n",
       "      <td>2</td>\n",
       "      <td>0</td>\n",
       "      <td>2</td>\n",
       "      <td>c</td>\n",
       "      <td>2016-06-01</td>\n",
       "      <td>18:52</td>\n",
       "      <td>0</td>\n",
       "      <td>NaN</td>\n",
       "      <td>기타 미용업</td>\n",
       "      <td>2000.000000</td>\n",
       "    </tr>\n",
       "    <tr>\n",
       "      <td>3</td>\n",
       "      <td>0</td>\n",
       "      <td>3</td>\n",
       "      <td>a</td>\n",
       "      <td>2016-06-01</td>\n",
       "      <td>20:22</td>\n",
       "      <td>0</td>\n",
       "      <td>NaN</td>\n",
       "      <td>기타 미용업</td>\n",
       "      <td>7857.142857</td>\n",
       "    </tr>\n",
       "    <tr>\n",
       "      <td>4</td>\n",
       "      <td>0</td>\n",
       "      <td>4</td>\n",
       "      <td>c</td>\n",
       "      <td>2016-06-02</td>\n",
       "      <td>11:06</td>\n",
       "      <td>0</td>\n",
       "      <td>NaN</td>\n",
       "      <td>기타 미용업</td>\n",
       "      <td>2000.000000</td>\n",
       "    </tr>\n",
       "  </tbody>\n",
       "</table>\n",
       "</div>"
      ],
      "text/plain": [
       "   store_id  card_id card_company transacted_date transacted_time  \\\n",
       "0         0        0            b      2016-06-01           13:13   \n",
       "1         0        1            h      2016-06-01           18:12   \n",
       "2         0        2            c      2016-06-01           18:52   \n",
       "3         0        3            a      2016-06-01           20:22   \n",
       "4         0        4            c      2016-06-02           11:06   \n",
       "\n",
       "   installment_term region type_of_business       amount  \n",
       "0                 0    NaN           기타 미용업  1857.142857  \n",
       "1                 0    NaN           기타 미용업   857.142857  \n",
       "2                 0    NaN           기타 미용업  2000.000000  \n",
       "3                 0    NaN           기타 미용업  7857.142857  \n",
       "4                 0    NaN           기타 미용업  2000.000000  "
      ]
     },
     "execution_count": 12,
     "metadata": {},
     "output_type": "execute_result"
    }
   ],
   "source": [
    "import pandas as pd\n",
    "import numpy as np\n",
    "import seaborn as sns\n",
    "from tqdm import tqdm\n",
    "import matplotlib.pyplot as plt\n",
    "\n",
    "# 데이터 읽어오기\n",
    "train = pd.read_csv('./funda_train.csv')\n",
    "train.head()"
   ]
  },
  {
   "cell_type": "markdown",
   "id": "b35b37dd",
   "metadata": {},
   "source": [
    "#### 데이터 결측치 확인"
   ]
  },
  {
   "cell_type": "code",
   "execution_count": 13,
   "id": "a9bd6d23",
   "metadata": {},
   "outputs": [
    {
     "data": {
      "text/plain": [
       "store_id                  0\n",
       "card_id                   0\n",
       "card_company              0\n",
       "transacted_date           0\n",
       "transacted_time           0\n",
       "installment_term          0\n",
       "region              2042766\n",
       "type_of_business    3952609\n",
       "amount                    0\n",
       "dtype: int64"
      ]
     },
     "execution_count": 13,
     "metadata": {},
     "output_type": "execute_result"
    }
   ],
   "source": [
    "train.isnull().sum()"
   ]
  },
  {
   "cell_type": "code",
   "execution_count": 14,
   "id": "cb26e71c",
   "metadata": {
    "scrolled": true
   },
   "outputs": [
    {
     "data": {
      "text/plain": [
       "([0, 1, 2, 3, 4, 5, 6, 7, 8],\n",
       " [Text(0, 0, ''),\n",
       "  Text(0, 0, ''),\n",
       "  Text(0, 0, ''),\n",
       "  Text(0, 0, ''),\n",
       "  Text(0, 0, ''),\n",
       "  Text(0, 0, ''),\n",
       "  Text(0, 0, ''),\n",
       "  Text(0, 0, ''),\n",
       "  Text(0, 0, '')])"
      ]
     },
     "execution_count": 14,
     "metadata": {},
     "output_type": "execute_result"
    },
    {
     "data": {
      "image/png": "[encoded data removed]",
      "text/plain": [
       "<Figure size 936x288 with 1 Axes>"
      ]
     },
     "metadata": {
      "needs_background": "light"
     },
     "output_type": "display_data"
    }
   ],
   "source": [
    "plt.figure(figsize=(13, 4))\n",
    "plt.bar(train.columns, train.isnull().sum())\n",
    "plt.xticks(rotation=45)  # x축 레이블 텍스트 회전 (45도만큼 회전)"
   ]
  },
  {
   "cell_type": "code",
   "execution_count": 15,
   "id": "b493a224",
   "metadata": {},
   "outputs": [
    {
     "name": "stdout",
     "output_type": "stream",
     "text": [
      "<class 'pandas.core.frame.DataFrame'>\n",
      "RangeIndex: 6556613 entries, 0 to 6556612\n",
      "Data columns (total 9 columns):\n",
      "store_id            int64\n",
      "card_id             int64\n",
      "card_company        object\n",
      "transacted_date     object\n",
      "transacted_time     object\n",
      "installment_term    int64\n",
      "region              object\n",
      "type_of_business    object\n",
      "amount              float64\n",
      "dtypes: float64(1), int64(3), object(5)\n",
      "memory usage: 450.2+ MB\n"
     ]
    }
   ],
   "source": [
    "train.info()"
   ]
  },
  {
   "cell_type": "markdown",
   "id": "5902b672",
   "metadata": {},
   "source": [
    "결측치가 포함된 열(region, type_of_business)의 dtype은 object로,  \n",
    "범주형 속성이고 대치할 방법이 없기때문에 열 전체를 제거하고 결과를 출력 해 보았다."
   ]
  },
  {
   "cell_type": "code",
   "execution_count": 16,
   "id": "bb1baa72",
   "metadata": {},
   "outputs": [
    {
     "data": {
      "text/html": [
       "<div>\n",
       "<style scoped>\n",
       "    .dataframe tbody tr th:only-of-type {\n",
       "        vertical-align: middle;\n",
       "    }\n",
       "\n",
       "    .dataframe tbody tr th {\n",
       "        vertical-align: top;\n",
       "    }\n",
       "\n",
       "    .dataframe thead th {\n",
       "        text-align: right;\n",
       "    }\n",
       "</style>\n",
       "<table border=\"1\" class=\"dataframe\">\n",
       "  <thead>\n",
       "    <tr style=\"text-align: right;\">\n",
       "      <th></th>\n",
       "      <th>store_id</th>\n",
       "      <th>card_id</th>\n",
       "      <th>card_company</th>\n",
       "      <th>transacted_date</th>\n",
       "      <th>transacted_time</th>\n",
       "      <th>installment_term</th>\n",
       "      <th>amount</th>\n",
       "    </tr>\n",
       "  </thead>\n",
       "  <tbody>\n",
       "    <tr>\n",
       "      <td>0</td>\n",
       "      <td>0</td>\n",
       "      <td>0</td>\n",
       "      <td>b</td>\n",
       "      <td>2016-06-01</td>\n",
       "      <td>13:13</td>\n",
       "      <td>0</td>\n",
       "      <td>1857.142857</td>\n",
       "    </tr>\n",
       "    <tr>\n",
       "      <td>1</td>\n",
       "      <td>0</td>\n",
       "      <td>1</td>\n",
       "      <td>h</td>\n",
       "      <td>2016-06-01</td>\n",
       "      <td>18:12</td>\n",
       "      <td>0</td>\n",
       "      <td>857.142857</td>\n",
       "    </tr>\n",
       "    <tr>\n",
       "      <td>2</td>\n",
       "      <td>0</td>\n",
       "      <td>2</td>\n",
       "      <td>c</td>\n",
       "      <td>2016-06-01</td>\n",
       "      <td>18:52</td>\n",
       "      <td>0</td>\n",
       "      <td>2000.000000</td>\n",
       "    </tr>\n",
       "    <tr>\n",
       "      <td>3</td>\n",
       "      <td>0</td>\n",
       "      <td>3</td>\n",
       "      <td>a</td>\n",
       "      <td>2016-06-01</td>\n",
       "      <td>20:22</td>\n",
       "      <td>0</td>\n",
       "      <td>7857.142857</td>\n",
       "    </tr>\n",
       "    <tr>\n",
       "      <td>4</td>\n",
       "      <td>0</td>\n",
       "      <td>4</td>\n",
       "      <td>c</td>\n",
       "      <td>2016-06-02</td>\n",
       "      <td>11:06</td>\n",
       "      <td>0</td>\n",
       "      <td>2000.000000</td>\n",
       "    </tr>\n",
       "  </tbody>\n",
       "</table>\n",
       "</div>"
      ],
      "text/plain": [
       "   store_id  card_id card_company transacted_date transacted_time  \\\n",
       "0         0        0            b      2016-06-01           13:13   \n",
       "1         0        1            h      2016-06-01           18:12   \n",
       "2         0        2            c      2016-06-01           18:52   \n",
       "3         0        3            a      2016-06-01           20:22   \n",
       "4         0        4            c      2016-06-02           11:06   \n",
       "\n",
       "   installment_term       amount  \n",
       "0                 0  1857.142857  \n",
       "1                 0   857.142857  \n",
       "2                 0  2000.000000  \n",
       "3                 0  7857.142857  \n",
       "4                 0  2000.000000  "
      ]
     },
     "execution_count": 16,
     "metadata": {},
     "output_type": "execute_result"
    }
   ],
   "source": [
    "train = train.drop(['region','type_of_business'],axis=1) # axis=1 : 열 방향으로 동작\n",
    "train.head()"
   ]
  },
  {
   "cell_type": "markdown",
   "id": "d189fe8f",
   "metadata": {},
   "source": [
    "#### 매출액(amount) 변수에 대한 이상치 존재 확인"
   ]
  },
  {
   "cell_type": "code",
   "execution_count": 17,
   "id": "1951d8b6",
   "metadata": {},
   "outputs": [
    {
     "data": {
      "text/plain": [
       "<AxesSubplot:xlabel='amount'>"
      ]
     },
     "execution_count": 17,
     "metadata": {},
     "output_type": "execute_result"
    },
    {
     "data": {
      "image/png": "[encoded data removed]",
      "text/plain": [
       "<Figure size 576x288 with 1 Axes>"
      ]
     },
     "metadata": {
      "needs_background": "light"
     },
     "output_type": "display_data"
    }
   ],
   "source": [
    "plt.figure(figsize=(8,4))\n",
    "sns.boxplot(train['amount'])"
   ]
  },
  {
   "cell_type": "markdown",
   "id": "f1267465",
   "metadata": {},
   "source": [
    "amount(매출액) 값으로 음수가 존재하는 것을 확인할 수 있다 -> 이상치  \n",
    "환불 건으로 예측이 되므로, 환불 발생현황을 확인하기 위해 매출액이 0 미만인 행을 출력 해 보자."
   ]
  },
  {
   "cell_type": "code",
   "execution_count": 18,
   "id": "eb28f1b0",
   "metadata": {},
   "outputs": [
    {
     "data": {
      "text/html": [
       "<div>\n",
       "<style scoped>\n",
       "    .dataframe tbody tr th:only-of-type {\n",
       "        vertical-align: middle;\n",
       "    }\n",
       "\n",
       "    .dataframe tbody tr th {\n",
       "        vertical-align: top;\n",
       "    }\n",
       "\n",
       "    .dataframe thead th {\n",
       "        text-align: right;\n",
       "    }\n",
       "</style>\n",
       "<table border=\"1\" class=\"dataframe\">\n",
       "  <thead>\n",
       "    <tr style=\"text-align: right;\">\n",
       "      <th></th>\n",
       "      <th>store_id</th>\n",
       "      <th>card_id</th>\n",
       "      <th>card_company</th>\n",
       "      <th>transacted_date</th>\n",
       "      <th>transacted_time</th>\n",
       "      <th>installment_term</th>\n",
       "      <th>amount</th>\n",
       "    </tr>\n",
       "  </thead>\n",
       "  <tbody>\n",
       "    <tr>\n",
       "      <td>41</td>\n",
       "      <td>0</td>\n",
       "      <td>40</td>\n",
       "      <td>a</td>\n",
       "      <td>2016-06-10</td>\n",
       "      <td>17:26</td>\n",
       "      <td>2</td>\n",
       "      <td>-8571.428571</td>\n",
       "    </tr>\n",
       "    <tr>\n",
       "      <td>347</td>\n",
       "      <td>0</td>\n",
       "      <td>285</td>\n",
       "      <td>a</td>\n",
       "      <td>2016-08-04</td>\n",
       "      <td>17:52</td>\n",
       "      <td>0</td>\n",
       "      <td>-1857.142857</td>\n",
       "    </tr>\n",
       "    <tr>\n",
       "      <td>731</td>\n",
       "      <td>0</td>\n",
       "      <td>473</td>\n",
       "      <td>g</td>\n",
       "      <td>2016-10-17</td>\n",
       "      <td>10:32</td>\n",
       "      <td>0</td>\n",
       "      <td>-2000.000000</td>\n",
       "    </tr>\n",
       "    <tr>\n",
       "      <td>831</td>\n",
       "      <td>0</td>\n",
       "      <td>230</td>\n",
       "      <td>b</td>\n",
       "      <td>2016-11-03</td>\n",
       "      <td>15:36</td>\n",
       "      <td>0</td>\n",
       "      <td>-85.714286</td>\n",
       "    </tr>\n",
       "    <tr>\n",
       "      <td>944</td>\n",
       "      <td>0</td>\n",
       "      <td>138</td>\n",
       "      <td>a</td>\n",
       "      <td>2016-11-28</td>\n",
       "      <td>13:21</td>\n",
       "      <td>0</td>\n",
       "      <td>-57.142857</td>\n",
       "    </tr>\n",
       "  </tbody>\n",
       "</table>\n",
       "</div>"
      ],
      "text/plain": [
       "     store_id  card_id card_company transacted_date transacted_time  \\\n",
       "41          0       40            a      2016-06-10           17:26   \n",
       "347         0      285            a      2016-08-04           17:52   \n",
       "731         0      473            g      2016-10-17           10:32   \n",
       "831         0      230            b      2016-11-03           15:36   \n",
       "944         0      138            a      2016-11-28           13:21   \n",
       "\n",
       "     installment_term       amount  \n",
       "41                  2 -8571.428571  \n",
       "347                 0 -1857.142857  \n",
       "731                 0 -2000.000000  \n",
       "831                 0   -85.714286  \n",
       "944                 0   -57.142857  "
      ]
     },
     "execution_count": 18,
     "metadata": {},
     "output_type": "execute_result"
    }
   ],
   "source": [
    "train[train['amount']<0].head()"
   ]
  },
  {
   "cell_type": "code",
   "execution_count": 19,
   "id": "283e36e6",
   "metadata": {},
   "outputs": [
    {
     "data": {
      "text/plain": [
       "store_id            73100\n",
       "card_id             73100\n",
       "card_company        73100\n",
       "transacted_date     73100\n",
       "transacted_time     73100\n",
       "installment_term    73100\n",
       "amount              73100\n",
       "dtype: int64"
      ]
     },
     "execution_count": 19,
     "metadata": {},
     "output_type": "execute_result"
    }
   ],
   "source": [
    "train[train['amount']<0].count()"
   ]
  },
  {
   "cell_type": "markdown",
   "id": "5a22c78d",
   "metadata": {},
   "source": [
    "#### 환불 거래건 제거하기\n",
    "\n",
    "1. amount가 음수로 발생(환불 발생)한 시간 이전의 거래내역 중 음수 매출액(환불금액)의 절댓값과 같은 행 제거  \n",
    "    -> 음수 매출액의 행만 제거하면, 환불하기 전의 양수 매출액이 매출액 집계 시 과대 계상되기 때문.  <br><br>\n",
    "    \n",
    "2. 환불 발생일(transacted_date)과 환불 발생시간(transacted_time) 이전 데이터 中 card_id가 같고,  \n",
    "    음수 매출액(amount)의 절댓값 == 양수 매출액(amount)인 최근 거래를 찾아서 해당 인덱스 제거  "
   ]
  },
  {
   "cell_type": "code",
   "execution_count": 20,
   "id": "9efcba72",
   "metadata": {},
   "outputs": [],
   "source": [
    "# 거래일과 거래시간을 합친 변수를 생성\n",
    "train['datetime'] = pd.to_datetime(train.transacted_date + \" \" + \n",
    "                                train.transacted_time, format='%Y-%m-%d %H:%M:%S')"
   ]
  },
  {
   "cell_type": "code",
   "execution_count": 21,
   "id": "d3fde216",
   "metadata": {},
   "outputs": [
    {
     "data": {
      "text/plain": [
       "0   2016-06-01 13:13:00\n",
       "1   2016-06-01 18:12:00\n",
       "2   2016-06-01 18:52:00\n",
       "3   2016-06-01 20:22:00\n",
       "4   2016-06-02 11:06:00\n",
       "Name: datetime, dtype: datetime64[ns]"
      ]
     },
     "execution_count": 21,
     "metadata": {},
     "output_type": "execute_result"
    }
   ],
   "source": [
    "train['datetime'].head()"
   ]
  },
  {
   "cell_type": "code",
   "execution_count": 22,
   "id": "70bfc72a",
   "metadata": {},
   "outputs": [],
   "source": [
    "# 환불 거래를 제거하는 함수 정의\n",
    "\n",
    "def remove_refund(df): # df 를 변수로 받음\n",
    "    \n",
    "    # 환불 거래 (매출액<0)\n",
    "    refund = df[df['amount']<0] \n",
    "    \n",
    "    # 구입 거래 (매출액>0)\n",
    "    non_refund = df[df['amount']>0]\n",
    "    \n",
    "    # 환불 거래 제거한 거래 건\n",
    "    removed_data = pd.DataFrame()\n",
    "    \n",
    "    for i in tqdm(df.store_id.unique()): # 반복문이 어디까지 진행됐는지 표시\n",
    "        \n",
    "        # 매출액이 양숫값인 데이터를 상점별로 나누기\n",
    "        divided_data = non_refund[non_refund['store_id']==i] \n",
    "        \n",
    "        # 매출액이 음숫값인 데이터를 상점별로 나누기\n",
    "        divided_data2 = refund[refund['store_id']==i]\n",
    "\n",
    "        for neg in divided_data2.to_records()[:]: # 환불 데이터를 차례대로 검사\n",
    "            # .to_records() -> rec.array([('인덱스a', value1a, value2a,...), ('인덱스b', value1a, value2a,...)...])\n",
    "            \n",
    "            refund_store = neg['store_id']\n",
    "            refund_id = neg['card_id'] # 환불 카드 아이디 추출\n",
    "            refund_datetime = neg['datetime'] # 환불 시간 추출\n",
    "            refund_amount = abs(neg['amount']) # 매출 음숫값의 절댓값 구하기\n",
    "            \n",
    "            # 환불 시간 이전의 데이터 중 \n",
    "            refund_pay_list = divided_data[divided_data['datetime']<=refund_datetime]\n",
    "            # 카드 아이디가 같고\n",
    "            refund_pay_list = refund_pay_list[refund_pay_list['card_id']==refund_id]\n",
    "            # 환불액이 같은 후보 리스트를 뽑는다.\n",
    "            refund_pay_list = refund_pay_list[refund_pay_list['amount']==refund_amount]\n",
    "            \n",
    "            # 후보 리스트가 있다면 -> 카드 아이디, 환불액이 같으면서 가장 최근시간을 제거\n",
    "            if(len(refund_pay_list)!=0):\n",
    "                refund_datetime = max(refund_pay_list['datetime']) # 가장 최근 시간 구하기\n",
    "                \n",
    "                noise_list = divided_data[divided_data['datetime']==refund_datetime] # 가장 최근시간\n",
    "                noise_list = noise_list[noise_list['card_id']==refund_id] # 환불 카드 아이디\n",
    "                noise_list = noise_list[noise_list['amount']==refund_amount] # 환불금액\n",
    "                \n",
    "                divided_data = divided_data.drop(index=noise_list.index) # 인덱스를 통해 제거\n",
    "                \n",
    "                \n",
    "        # 제거한 데이터를 데이터프레임에 추가\n",
    "        removed_data = pd.concat([removed_data,divided_data],axis=0)\n",
    "    \n",
    "    return removed_data"
   ]
  },
  {
   "cell_type": "markdown",
   "id": "abd3eee3",
   "metadata": {},
   "source": [
    "#### 환불 거래 건 삭제한 데이터를 boxplot으로 확인 해 보기"
   ]
  },
  {
   "cell_type": "code",
   "execution_count": 23,
   "id": "932a75fc",
   "metadata": {},
   "outputs": [
    {
     "name": "stderr",
     "output_type": "stream",
     "text": [
      "100%|██████████████████████████████████████████████████████████████████████████████| 1967/1967 [14:26<00:00,  2.27it/s]\n"
     ]
    },
    {
     "data": {
      "text/plain": [
       "<AxesSubplot:xlabel='amount'>"
      ]
     },
     "execution_count": 23,
     "metadata": {},
     "output_type": "execute_result"
    },
    {
     "data": {
      "image/png": "[encoded data removed]",
      "text/plain": [
       "<Figure size 576x288 with 1 Axes>"
      ]
     },
     "metadata": {
      "needs_background": "light"
     },
     "output_type": "display_data"
    }
   ],
   "source": [
    "# 환불 거래 건 삭제하는 함수(remove_refund())실행\n",
    "positive_data = remove_refund(train)\n",
    "\n",
    "# 환불 거래 삭제된 데이터를 boxplot으로 확인 (amout 기준)\n",
    "plt.figure(figsize=(8,4))\n",
    "sns.boxplot(positive_data['amount'])"
   ]
  },
  {
   "cell_type": "markdown",
   "id": "a6dc4099",
   "metadata": {},
   "source": [
    "### 2-2. Down Sampling"
   ]
  },
  {
   "cell_type": "markdown",
   "id": "12b04242",
   "metadata": {},
   "source": [
    "시계열 데이터에서 '시간 간격을 넓게 재조정'해 데이터 샘플수를 줄이는 것  \n",
    "시계열 모델을 만들 때, 시간 간격을 좁게 하면 예측해야 하는 구간이 커져서 불확실성이 증가하기 때문에,  \n",
    "Down Sampling을 통해 샘플 수를 줄이고 예측 구간을 작게 해서 불확실성을 줄인다."
   ]
  },
  {
   "cell_type": "code",
   "execution_count": 24,
   "id": "e5f07e1f",
   "metadata": {
    "scrolled": true
   },
   "outputs": [
    {
     "data": {
      "text/html": [
       "<div>\n",
       "<style scoped>\n",
       "    .dataframe tbody tr th:only-of-type {\n",
       "        vertical-align: middle;\n",
       "    }\n",
       "\n",
       "    .dataframe tbody tr th {\n",
       "        vertical-align: top;\n",
       "    }\n",
       "\n",
       "    .dataframe thead th {\n",
       "        text-align: right;\n",
       "    }\n",
       "</style>\n",
       "<table border=\"1\" class=\"dataframe\">\n",
       "  <thead>\n",
       "    <tr style=\"text-align: right;\">\n",
       "      <th></th>\n",
       "      <th>store_id</th>\n",
       "      <th>card_id</th>\n",
       "      <th>card_company</th>\n",
       "      <th>transacted_date</th>\n",
       "      <th>transacted_time</th>\n",
       "      <th>installment_term</th>\n",
       "      <th>amount</th>\n",
       "      <th>datetime</th>\n",
       "    </tr>\n",
       "  </thead>\n",
       "  <tbody>\n",
       "    <tr>\n",
       "      <td>0</td>\n",
       "      <td>0</td>\n",
       "      <td>0</td>\n",
       "      <td>b</td>\n",
       "      <td>2016-06-01</td>\n",
       "      <td>13:13</td>\n",
       "      <td>0</td>\n",
       "      <td>1857.142857</td>\n",
       "      <td>2016-06-01 13:13:00</td>\n",
       "    </tr>\n",
       "    <tr>\n",
       "      <td>1</td>\n",
       "      <td>0</td>\n",
       "      <td>1</td>\n",
       "      <td>h</td>\n",
       "      <td>2016-06-01</td>\n",
       "      <td>18:12</td>\n",
       "      <td>0</td>\n",
       "      <td>857.142857</td>\n",
       "      <td>2016-06-01 18:12:00</td>\n",
       "    </tr>\n",
       "    <tr>\n",
       "      <td>2</td>\n",
       "      <td>0</td>\n",
       "      <td>2</td>\n",
       "      <td>c</td>\n",
       "      <td>2016-06-01</td>\n",
       "      <td>18:52</td>\n",
       "      <td>0</td>\n",
       "      <td>2000.000000</td>\n",
       "      <td>2016-06-01 18:52:00</td>\n",
       "    </tr>\n",
       "    <tr>\n",
       "      <td>3</td>\n",
       "      <td>0</td>\n",
       "      <td>3</td>\n",
       "      <td>a</td>\n",
       "      <td>2016-06-01</td>\n",
       "      <td>20:22</td>\n",
       "      <td>0</td>\n",
       "      <td>7857.142857</td>\n",
       "      <td>2016-06-01 20:22:00</td>\n",
       "    </tr>\n",
       "    <tr>\n",
       "      <td>4</td>\n",
       "      <td>0</td>\n",
       "      <td>4</td>\n",
       "      <td>c</td>\n",
       "      <td>2016-06-02</td>\n",
       "      <td>11:06</td>\n",
       "      <td>0</td>\n",
       "      <td>2000.000000</td>\n",
       "      <td>2016-06-02 11:06:00</td>\n",
       "    </tr>\n",
       "  </tbody>\n",
       "</table>\n",
       "</div>"
      ],
      "text/plain": [
       "   store_id  card_id card_company transacted_date transacted_time  \\\n",
       "0         0        0            b      2016-06-01           13:13   \n",
       "1         0        1            h      2016-06-01           18:12   \n",
       "2         0        2            c      2016-06-01           18:52   \n",
       "3         0        3            a      2016-06-01           20:22   \n",
       "4         0        4            c      2016-06-02           11:06   \n",
       "\n",
       "   installment_term       amount            datetime  \n",
       "0                 0  1857.142857 2016-06-01 13:13:00  \n",
       "1                 0   857.142857 2016-06-01 18:12:00  \n",
       "2                 0  2000.000000 2016-06-01 18:52:00  \n",
       "3                 0  7857.142857 2016-06-01 20:22:00  \n",
       "4                 0  2000.000000 2016-06-02 11:06:00  "
      ]
     },
     "execution_count": 24,
     "metadata": {},
     "output_type": "execute_result"
    }
   ],
   "source": [
    "# 환불 거래 건 삭제했던 데이터프레임(positive_data)\n",
    "positive_data.head()"
   ]
  },
  {
   "cell_type": "code",
   "execution_count": 25,
   "id": "886cad25",
   "metadata": {
    "scrolled": true
   },
   "outputs": [
    {
     "data": {
      "text/html": [
       "<div>\n",
       "<style scoped>\n",
       "    .dataframe tbody tr th:only-of-type {\n",
       "        vertical-align: middle;\n",
       "    }\n",
       "\n",
       "    .dataframe tbody tr th {\n",
       "        vertical-align: top;\n",
       "    }\n",
       "\n",
       "    .dataframe thead th {\n",
       "        text-align: right;\n",
       "    }\n",
       "</style>\n",
       "<table border=\"1\" class=\"dataframe\">\n",
       "  <thead>\n",
       "    <tr style=\"text-align: right;\">\n",
       "      <th></th>\n",
       "      <th>store_id</th>\n",
       "      <th>card_id</th>\n",
       "      <th>card_company</th>\n",
       "      <th>transacted_date</th>\n",
       "      <th>transacted_time</th>\n",
       "      <th>installment_term</th>\n",
       "      <th>amount</th>\n",
       "      <th>datetime</th>\n",
       "    </tr>\n",
       "  </thead>\n",
       "  <tbody>\n",
       "  </tbody>\n",
       "</table>\n",
       "</div>"
      ],
      "text/plain": [
       "Empty DataFrame\n",
       "Columns: [store_id, card_id, card_company, transacted_date, transacted_time, installment_term, amount, datetime]\n",
       "Index: []"
      ]
     },
     "execution_count": 25,
     "metadata": {},
     "output_type": "execute_result"
    }
   ],
   "source": [
    "positive_data[positive_data['amount']<0]"
   ]
  },
  {
   "cell_type": "code",
   "execution_count": 26,
   "id": "cc07af1f",
   "metadata": {},
   "outputs": [
    {
     "data": {
      "text/html": [
       "<div>\n",
       "<style scoped>\n",
       "    .dataframe tbody tr th:only-of-type {\n",
       "        vertical-align: middle;\n",
       "    }\n",
       "\n",
       "    .dataframe tbody tr th {\n",
       "        vertical-align: top;\n",
       "    }\n",
       "\n",
       "    .dataframe thead th {\n",
       "        text-align: right;\n",
       "    }\n",
       "</style>\n",
       "<table border=\"1\" class=\"dataframe\">\n",
       "  <thead>\n",
       "    <tr style=\"text-align: right;\">\n",
       "      <th></th>\n",
       "      <th>store_id</th>\n",
       "      <th>card_id</th>\n",
       "      <th>card_company</th>\n",
       "      <th>transacted_date</th>\n",
       "      <th>transacted_time</th>\n",
       "      <th>installment_term</th>\n",
       "      <th>amount</th>\n",
       "      <th>datetime</th>\n",
       "    </tr>\n",
       "  </thead>\n",
       "  <tbody>\n",
       "    <tr>\n",
       "      <td>0</td>\n",
       "      <td>0</td>\n",
       "      <td>0</td>\n",
       "      <td>b</td>\n",
       "      <td>2016-06-01</td>\n",
       "      <td>13:13</td>\n",
       "      <td>0</td>\n",
       "      <td>1857.142857</td>\n",
       "      <td>2016-06-01 13:13:00</td>\n",
       "    </tr>\n",
       "    <tr>\n",
       "      <td>1</td>\n",
       "      <td>0</td>\n",
       "      <td>1</td>\n",
       "      <td>h</td>\n",
       "      <td>2016-06-01</td>\n",
       "      <td>18:12</td>\n",
       "      <td>0</td>\n",
       "      <td>857.142857</td>\n",
       "      <td>2016-06-01 18:12:00</td>\n",
       "    </tr>\n",
       "    <tr>\n",
       "      <td>2</td>\n",
       "      <td>0</td>\n",
       "      <td>2</td>\n",
       "      <td>c</td>\n",
       "      <td>2016-06-01</td>\n",
       "      <td>18:52</td>\n",
       "      <td>0</td>\n",
       "      <td>2000.000000</td>\n",
       "      <td>2016-06-01 18:52:00</td>\n",
       "    </tr>\n",
       "    <tr>\n",
       "      <td>3</td>\n",
       "      <td>0</td>\n",
       "      <td>3</td>\n",
       "      <td>a</td>\n",
       "      <td>2016-06-01</td>\n",
       "      <td>20:22</td>\n",
       "      <td>0</td>\n",
       "      <td>7857.142857</td>\n",
       "      <td>2016-06-01 20:22:00</td>\n",
       "    </tr>\n",
       "    <tr>\n",
       "      <td>4</td>\n",
       "      <td>0</td>\n",
       "      <td>4</td>\n",
       "      <td>c</td>\n",
       "      <td>2016-06-02</td>\n",
       "      <td>11:06</td>\n",
       "      <td>0</td>\n",
       "      <td>2000.000000</td>\n",
       "      <td>2016-06-02 11:06:00</td>\n",
       "    </tr>\n",
       "    <tr>\n",
       "      <td>...</td>\n",
       "      <td>...</td>\n",
       "      <td>...</td>\n",
       "      <td>...</td>\n",
       "      <td>...</td>\n",
       "      <td>...</td>\n",
       "      <td>...</td>\n",
       "      <td>...</td>\n",
       "      <td>...</td>\n",
       "    </tr>\n",
       "    <tr>\n",
       "      <td>6556606</td>\n",
       "      <td>2136</td>\n",
       "      <td>4663854</td>\n",
       "      <td>f</td>\n",
       "      <td>2019-02-28</td>\n",
       "      <td>23:03</td>\n",
       "      <td>0</td>\n",
       "      <td>3928.571429</td>\n",
       "      <td>2019-02-28 23:03:00</td>\n",
       "    </tr>\n",
       "    <tr>\n",
       "      <td>6556609</td>\n",
       "      <td>2136</td>\n",
       "      <td>4663855</td>\n",
       "      <td>d</td>\n",
       "      <td>2019-02-28</td>\n",
       "      <td>23:24</td>\n",
       "      <td>0</td>\n",
       "      <td>4142.857143</td>\n",
       "      <td>2019-02-28 23:24:00</td>\n",
       "    </tr>\n",
       "    <tr>\n",
       "      <td>6556610</td>\n",
       "      <td>2136</td>\n",
       "      <td>4663489</td>\n",
       "      <td>a</td>\n",
       "      <td>2019-02-28</td>\n",
       "      <td>23:24</td>\n",
       "      <td>0</td>\n",
       "      <td>4500.000000</td>\n",
       "      <td>2019-02-28 23:24:00</td>\n",
       "    </tr>\n",
       "    <tr>\n",
       "      <td>6556611</td>\n",
       "      <td>2136</td>\n",
       "      <td>4663856</td>\n",
       "      <td>d</td>\n",
       "      <td>2019-02-28</td>\n",
       "      <td>23:27</td>\n",
       "      <td>0</td>\n",
       "      <td>571.428571</td>\n",
       "      <td>2019-02-28 23:27:00</td>\n",
       "    </tr>\n",
       "    <tr>\n",
       "      <td>6556612</td>\n",
       "      <td>2136</td>\n",
       "      <td>4658616</td>\n",
       "      <td>c</td>\n",
       "      <td>2019-02-28</td>\n",
       "      <td>23:54</td>\n",
       "      <td>0</td>\n",
       "      <td>5857.142857</td>\n",
       "      <td>2019-02-28 23:54:00</td>\n",
       "    </tr>\n",
       "  </tbody>\n",
       "</table>\n",
       "<p>6406073 rows × 8 columns</p>\n",
       "</div>"
      ],
      "text/plain": [
       "         store_id  card_id card_company transacted_date transacted_time  \\\n",
       "0               0        0            b      2016-06-01           13:13   \n",
       "1               0        1            h      2016-06-01           18:12   \n",
       "2               0        2            c      2016-06-01           18:52   \n",
       "3               0        3            a      2016-06-01           20:22   \n",
       "4               0        4            c      2016-06-02           11:06   \n",
       "...           ...      ...          ...             ...             ...   \n",
       "6556606      2136  4663854            f      2019-02-28           23:03   \n",
       "6556609      2136  4663855            d      2019-02-28           23:24   \n",
       "6556610      2136  4663489            a      2019-02-28           23:24   \n",
       "6556611      2136  4663856            d      2019-02-28           23:27   \n",
       "6556612      2136  4658616            c      2019-02-28           23:54   \n",
       "\n",
       "         installment_term       amount            datetime  \n",
       "0                       0  1857.142857 2016-06-01 13:13:00  \n",
       "1                       0   857.142857 2016-06-01 18:12:00  \n",
       "2                       0  2000.000000 2016-06-01 18:52:00  \n",
       "3                       0  7857.142857 2016-06-01 20:22:00  \n",
       "4                       0  2000.000000 2016-06-02 11:06:00  \n",
       "...                   ...          ...                 ...  \n",
       "6556606                 0  3928.571429 2019-02-28 23:03:00  \n",
       "6556609                 0  4142.857143 2019-02-28 23:24:00  \n",
       "6556610                 0  4500.000000 2019-02-28 23:24:00  \n",
       "6556611                 0   571.428571 2019-02-28 23:27:00  \n",
       "6556612                 0  5857.142857 2019-02-28 23:54:00  \n",
       "\n",
       "[6406073 rows x 8 columns]"
      ]
     },
     "execution_count": 26,
     "metadata": {},
     "output_type": "execute_result"
    }
   ],
   "source": [
    "positive_data[positive_data['amount']>0]"
   ]
  },
  {
   "cell_type": "code",
   "execution_count": 27,
   "id": "05774bbf",
   "metadata": {},
   "outputs": [],
   "source": [
    "# 분 단위의 시간간격을 월 단위로 down sampling 하는 함수 정의\n",
    "def month_resampling(df):\n",
    "    new_data = pd.DataFrame()\n",
    "    \n",
    "    # year-month 까지만 표시하는 변수 생성\n",
    "    df['year_month'] = df['transacted_date'].str.slice(stop=7)\n",
    "    \n",
    "    # 데이터의 전체 기간을 추출\n",
    "    # .drop_duplicates() -> 중복값 처리.unique한 1개의 key만 남기고 나머지 중복값 제거\n",
    "    year_month = df['year_month'].drop_duplicates()\n",
    "    \n",
    "    # 상점 아이디별로 월 단위 매출액 총합 구하기\n",
    "    # .groupby() : 지정한 열이 같은 항목끼리 gouping !\n",
    "    downsampling_data = df.groupby(['store_id', 'year_month']).amount.sum()\n",
    "    downsampling_data = pd.DataFrame(downsampling_data)\n",
    "    downsampling_data = downsampling_data.reset_index(drop=False,inplace=False)\n",
    "    \n",
    "    \n",
    "    for i in tqdm(df.store_id.unique()): # 반복문이 어디까지 진행됐는지 표시\n",
    "        # 상점별로 데이터를 처리\n",
    "        store = downsampling_data[downsampling_data['store_id']==i]\n",
    "\n",
    "        # 각 상점의 처음 매출이 발생한 월을 구합니다.\n",
    "        start_time = min(store['year_month'])\n",
    "\n",
    "        # 모든 상점을 전체 기간 데이터로 만들어주기\n",
    "        store = store.merge(year_month,how='outer')\n",
    "\n",
    "        # 데이터를 시간순으로 정렬합니다.\n",
    "        store = store.sort_values(by=['year_month'], axis=0, ascending=True) \n",
    "\n",
    "        # 매출이 발생하지 않는 월은 2로 채우기\n",
    "        # 나중에 시계열 데이터의 진동폭을 안정화하기 위해 '로그정규화'를 할건데\n",
    "        # 1 이하의 값은 로그 정규화를 할때 음수or무한대가 나오기 때문\n",
    "        store['amount'] = store['amount'].fillna(2) \n",
    "\n",
    "        # 상점 아이디 결측치 채우기\n",
    "        store['store_id'] = store['store_id'].fillna(i)  \n",
    "\n",
    "        # 처음 매출이 발생한 월 이후만 뽑기\n",
    "        store = store[store['year_month']>=start_time] \n",
    "\n",
    "        new_data = pd.concat([new_data,store],axis=0)\n",
    "        \n",
    "    return new_data"
   ]
  },
  {
   "cell_type": "code",
   "execution_count": 28,
   "id": "3848ad4e",
   "metadata": {},
   "outputs": [
    {
     "name": "stderr",
     "output_type": "stream",
     "text": [
      "100%|█████████████████████████████████████████████████████████████████████████████| 1967/1967 [00:17<00:00, 115.37it/s]"
     ]
    },
    {
     "name": "stdout",
     "output_type": "stream",
     "text": [
      "float64\n"
     ]
    },
    {
     "name": "stderr",
     "output_type": "stream",
     "text": [
      "\n"
     ]
    }
   ],
   "source": [
    "# 환불 거래를 제거한 데이터를 월 단위로 Down Sampling\n",
    "resampling_data = month_resampling(positive_data)\n",
    "print(resampling_data['store_id'].dtypes)"
   ]
  },
  {
   "cell_type": "code",
   "execution_count": 29,
   "id": "75239d90",
   "metadata": {},
   "outputs": [
    {
     "data": {
      "text/html": [
       "<div>\n",
       "<style scoped>\n",
       "    .dataframe tbody tr th:only-of-type {\n",
       "        vertical-align: middle;\n",
       "    }\n",
       "\n",
       "    .dataframe tbody tr th {\n",
       "        vertical-align: top;\n",
       "    }\n",
       "\n",
       "    .dataframe thead th {\n",
       "        text-align: right;\n",
       "    }\n",
       "</style>\n",
       "<table border=\"1\" class=\"dataframe\">\n",
       "  <thead>\n",
       "    <tr style=\"text-align: right;\">\n",
       "      <th></th>\n",
       "      <th>store_id</th>\n",
       "      <th>year_month</th>\n",
       "      <th>amount</th>\n",
       "    </tr>\n",
       "  </thead>\n",
       "  <tbody>\n",
       "    <tr>\n",
       "      <td>0</td>\n",
       "      <td>0</td>\n",
       "      <td>2016-06</td>\n",
       "      <td>7.470000e+05</td>\n",
       "    </tr>\n",
       "    <tr>\n",
       "      <td>1</td>\n",
       "      <td>0</td>\n",
       "      <td>2016-07</td>\n",
       "      <td>1.005000e+06</td>\n",
       "    </tr>\n",
       "    <tr>\n",
       "      <td>2</td>\n",
       "      <td>0</td>\n",
       "      <td>2016-08</td>\n",
       "      <td>8.697143e+05</td>\n",
       "    </tr>\n",
       "    <tr>\n",
       "      <td>3</td>\n",
       "      <td>0</td>\n",
       "      <td>2016-09</td>\n",
       "      <td>8.978571e+05</td>\n",
       "    </tr>\n",
       "    <tr>\n",
       "      <td>4</td>\n",
       "      <td>0</td>\n",
       "      <td>2016-10</td>\n",
       "      <td>8.354286e+05</td>\n",
       "    </tr>\n",
       "    <tr>\n",
       "      <td>...</td>\n",
       "      <td>...</td>\n",
       "      <td>...</td>\n",
       "      <td>...</td>\n",
       "    </tr>\n",
       "    <tr>\n",
       "      <td>17</td>\n",
       "      <td>2136</td>\n",
       "      <td>2018-10</td>\n",
       "      <td>2.012214e+06</td>\n",
       "    </tr>\n",
       "    <tr>\n",
       "      <td>18</td>\n",
       "      <td>2136</td>\n",
       "      <td>2018-11</td>\n",
       "      <td>2.127643e+06</td>\n",
       "    </tr>\n",
       "    <tr>\n",
       "      <td>19</td>\n",
       "      <td>2136</td>\n",
       "      <td>2018-12</td>\n",
       "      <td>2.427429e+06</td>\n",
       "    </tr>\n",
       "    <tr>\n",
       "      <td>20</td>\n",
       "      <td>2136</td>\n",
       "      <td>2019-01</td>\n",
       "      <td>1.867786e+06</td>\n",
       "    </tr>\n",
       "    <tr>\n",
       "      <td>21</td>\n",
       "      <td>2136</td>\n",
       "      <td>2019-02</td>\n",
       "      <td>2.227429e+06</td>\n",
       "    </tr>\n",
       "  </tbody>\n",
       "</table>\n",
       "<p>60982 rows × 3 columns</p>\n",
       "</div>"
      ],
      "text/plain": [
       "    store_id year_month        amount\n",
       "0          0    2016-06  7.470000e+05\n",
       "1          0    2016-07  1.005000e+06\n",
       "2          0    2016-08  8.697143e+05\n",
       "3          0    2016-09  8.978571e+05\n",
       "4          0    2016-10  8.354286e+05\n",
       "..       ...        ...           ...\n",
       "17      2136    2018-10  2.012214e+06\n",
       "18      2136    2018-11  2.127643e+06\n",
       "19      2136    2018-12  2.427429e+06\n",
       "20      2136    2019-01  1.867786e+06\n",
       "21      2136    2019-02  2.227429e+06\n",
       "\n",
       "[60982 rows x 3 columns]"
      ]
     },
     "execution_count": 29,
     "metadata": {},
     "output_type": "execute_result"
    }
   ],
   "source": [
    "# sampling_data['store_id'] 형변환 ( float64 -> int)\n",
    "resampling_data['store_id'] = resampling_data['store_id'].astype(int)\n",
    "resampling_data"
   ]
  },
  {
   "cell_type": "markdown",
   "id": "0fc99d8a",
   "metadata": {},
   "source": [
    "이렇게 월 단위의 데이터로 down sampling을 했기 때문에,  \n",
    "미래 3개월의 매출을 예측하기 위한 예측 구간이  \n",
    "(3개월 * 30일 * 24시간 * 60분)개 -> (3개월)개 로 줄어들었다."
   ]
  },
  {
   "cell_type": "markdown",
   "id": "99f89a44",
   "metadata": {},
   "source": [
    "Down Sampling은 예측구간을 최소화시켜 불확실성을 줄여주지만,  \n",
    "시간 간격을 너무 크게 재조정하면 작은 데이터 샘플로 인해 오히려 정확도가 떨어진다.<br><br>\n",
    "-> 따라서 지속적인 탐색을 통해 적절한 Down Sampling 시간 간격을 찾는 것이 주요 과제이다."
   ]
  },
  {
   "cell_type": "markdown",
   "id": "0b0aeec5",
   "metadata": {},
   "source": [
    "### 2-3. 날짜  지정 범위 생성과 시리즈 객체 변환"
   ]
  },
  {
   "cell_type": "code",
   "execution_count": 30,
   "id": "a1bb6561",
   "metadata": {},
   "outputs": [
    {
     "name": "stdout",
     "output_type": "stream",
     "text": [
      "<class 'pandas.core.frame.DataFrame'>\n"
     ]
    }
   ],
   "source": [
    "# DownSampling까지 완료한 데이터의 타입 확인 -> DataFrame\n",
    "print(type(resampling_data))"
   ]
  },
  {
   "cell_type": "markdown",
   "id": "95a2d9d7",
   "metadata": {},
   "source": [
    "시계열 분석을 위해, 상점 아이디별로 인덱스에 날짜 지정범위를 생성 & 시리즈 객체로 변환"
   ]
  },
  {
   "cell_type": "code",
   "execution_count": 31,
   "id": "38b177be",
   "metadata": {},
   "outputs": [],
   "source": [
    "# DataFrame -> Series 변환하는 함수\n",
    "# 함수의 인자 -> df: DownSampling한 데이터, i: 상점아이디\n",
    "def time_series(df, i):\n",
    "    \n",
    "    # 상점별로 데이터 추출\n",
    "    store = df[df['store_id']==i]\n",
    "    \n",
    "    # 날짜 지정 범위: 영업 시작 월부터 2019년 3월 전까지 영업 마감일 기준\n",
    "    ## .date_range(): 시간 변수의 날짜 지정범위 생성\n",
    "    ## freq: 빈도를 나타내는 매개변수(파라미터). \n",
    "    ## freq='BM' -> business month end frequency, 매월 마지막 영업일\n",
    "    index = pd.date_range(min(store['year_month']),'2019-03',freq='BM') \n",
    "    \n",
    "    # 시리즈 객체로 변환\n",
    "    ## value(값): 매출액 , 인덱스: 첫 영업월부터 2019년 3월까지의 매월 마지막 영업일\n",
    "    ts = pd.Series(store['amount'].values,index=index)\n",
    "    \n",
    "    return ts"
   ]
  },
  {
   "cell_type": "code",
   "execution_count": 32,
   "id": "883c3fab",
   "metadata": {},
   "outputs": [
    {
     "data": {
      "text/plain": [
       "2016-06-30    7.470000e+05\n",
       "2016-07-29    1.005000e+06\n",
       "2016-08-31    8.697143e+05\n",
       "2016-09-30    8.978571e+05\n",
       "2016-10-31    8.354286e+05\n",
       "2016-11-30    6.970000e+05\n",
       "2016-12-30    7.618571e+05\n",
       "2017-01-31    5.856429e+05\n",
       "2017-02-28    7.940000e+05\n",
       "2017-03-31    7.202571e+05\n",
       "2017-04-28    6.852857e+05\n",
       "2017-05-31    7.444286e+05\n",
       "2017-06-30    6.820000e+05\n",
       "2017-07-31    7.282857e+05\n",
       "2017-08-31    7.490000e+05\n",
       "2017-09-29    8.408571e+05\n",
       "2017-10-31    6.005714e+05\n",
       "2017-11-30    6.308571e+05\n",
       "2017-12-29    8.127143e+05\n",
       "2018-01-31    6.431429e+05\n",
       "2018-02-28    6.852857e+05\n",
       "2018-03-30    8.484286e+05\n",
       "2018-04-30    6.361429e+05\n",
       "2018-05-31    6.864286e+05\n",
       "2018-06-29    7.072857e+05\n",
       "2018-07-31    7.587143e+05\n",
       "2018-08-31    6.798571e+05\n",
       "2018-09-28    6.518571e+05\n",
       "2018-10-31    7.390000e+05\n",
       "2018-11-30    6.760000e+05\n",
       "2018-12-31    8.745714e+05\n",
       "2019-01-31    6.828571e+05\n",
       "2019-02-28    5.152857e+05\n",
       "Freq: BM, dtype: float64"
      ]
     },
     "execution_count": 32,
     "metadata": {},
     "output_type": "execute_result"
    }
   ],
   "source": [
    "# time_series 함수 실행 테스트\n",
    "# 상점 아이디가 0번인 데이터를 시리즈 객체로 변환\n",
    "store_0 = time_series(resampling_data, 0)\n",
    "store_0"
   ]
  },
  {
   "cell_type": "code",
   "execution_count": 33,
   "id": "2158c02d",
   "metadata": {},
   "outputs": [
    {
     "name": "stdout",
     "output_type": "stream",
     "text": [
      "<class 'pandas.core.series.Series'>\n"
     ]
    }
   ],
   "source": [
    "# 상점 아이디가 1번인 데이터를 시리즈 객체로 변환\n",
    "store_1 = time_series(resampling_data, 1)\n",
    "\n",
    "# 데이터 타입 확인\n",
    "print(type(store_1))"
   ]
  },
  {
   "cell_type": "markdown",
   "id": "e673b2fb",
   "metadata": {},
   "source": [
    "데이터타입이 DataFrame -> Series로 잘 변환된 것을 확인할 수 있다."
   ]
  },
  {
   "cell_type": "code",
   "execution_count": 34,
   "id": "c0355a5f",
   "metadata": {},
   "outputs": [
    {
     "data": {
      "text/plain": [
       "<AxesSubplot:>"
      ]
     },
     "execution_count": 34,
     "metadata": {},
     "output_type": "execute_result"
    },
    {
     "data": {
      "image/png": "[encoded data removed]",
      "text/plain": [
       "<Figure size 432x288 with 1 Axes>"
      ]
     },
     "metadata": {
      "needs_background": "light"
     },
     "output_type": "display_data"
    }
   ],
   "source": [
    "# 상점 아이디가 2번인 데이터를 시리즈 객체로 변환\n",
    "store_2 = time_series(resampling_data, 2)\n",
    "\n",
    "# 시계열 그래프 그리기\n",
    "store_2.plot()"
   ]
  },
  {
   "cell_type": "markdown",
   "id": "9b0f4ca3",
   "metadata": {},
   "source": [
    "## 3. EDA (탐색적 데이터 분석)"
   ]
  },
  {
   "cell_type": "markdown",
   "id": "6c6ae53d",
   "metadata": {},
   "source": [
    "### 3-1. 상점별 매출 특성 분석"
   ]
  },
  {
   "cell_type": "markdown",
   "id": "78307a32",
   "metadata": {},
   "source": [
    "<b>[상점의 특징]<br></b>\n",
    "    1. 계절성이 있는 상점  \n",
    "    2. 추세가 있는 상점  \n",
    "    3. 휴업 중인 상점  "
   ]
  },
  {
   "cell_type": "markdown",
   "id": "8c7859f0",
   "metadata": {},
   "source": [
    "#### 계절성이 있는 상점"
   ]
  },
  {
   "cell_type": "code",
   "execution_count": 35,
   "id": "71568e53",
   "metadata": {},
   "outputs": [
    {
     "data": {
      "text/html": [
       "<div>\n",
       "<style scoped>\n",
       "    .dataframe tbody tr th:only-of-type {\n",
       "        vertical-align: middle;\n",
       "    }\n",
       "\n",
       "    .dataframe tbody tr th {\n",
       "        vertical-align: top;\n",
       "    }\n",
       "\n",
       "    .dataframe thead th {\n",
       "        text-align: right;\n",
       "    }\n",
       "</style>\n",
       "<table border=\"1\" class=\"dataframe\">\n",
       "  <thead>\n",
       "    <tr style=\"text-align: right;\">\n",
       "      <th></th>\n",
       "      <th>store_id</th>\n",
       "      <th>card_id</th>\n",
       "      <th>card_company</th>\n",
       "      <th>transacted_date</th>\n",
       "      <th>transacted_time</th>\n",
       "      <th>installment_term</th>\n",
       "      <th>amount</th>\n",
       "      <th>datetime</th>\n",
       "    </tr>\n",
       "  </thead>\n",
       "  <tbody>\n",
       "    <tr>\n",
       "      <td>754179</td>\n",
       "      <td>257</td>\n",
       "      <td>502225</td>\n",
       "      <td>f</td>\n",
       "      <td>2016-06-04</td>\n",
       "      <td>15:53</td>\n",
       "      <td>0</td>\n",
       "      <td>7857.142857</td>\n",
       "      <td>2016-06-04 15:53:00</td>\n",
       "    </tr>\n",
       "    <tr>\n",
       "      <td>754180</td>\n",
       "      <td>257</td>\n",
       "      <td>502226</td>\n",
       "      <td>f</td>\n",
       "      <td>2016-06-04</td>\n",
       "      <td>16:59</td>\n",
       "      <td>0</td>\n",
       "      <td>23571.428571</td>\n",
       "      <td>2016-06-04 16:59:00</td>\n",
       "    </tr>\n",
       "    <tr>\n",
       "      <td>754181</td>\n",
       "      <td>257</td>\n",
       "      <td>502227</td>\n",
       "      <td>g</td>\n",
       "      <td>2016-06-06</td>\n",
       "      <td>10:08</td>\n",
       "      <td>0</td>\n",
       "      <td>6285.714286</td>\n",
       "      <td>2016-06-06 10:08:00</td>\n",
       "    </tr>\n",
       "    <tr>\n",
       "      <td>754182</td>\n",
       "      <td>257</td>\n",
       "      <td>502227</td>\n",
       "      <td>g</td>\n",
       "      <td>2016-06-06</td>\n",
       "      <td>14:02</td>\n",
       "      <td>0</td>\n",
       "      <td>3142.857143</td>\n",
       "      <td>2016-06-06 14:02:00</td>\n",
       "    </tr>\n",
       "    <tr>\n",
       "      <td>754183</td>\n",
       "      <td>257</td>\n",
       "      <td>502228</td>\n",
       "      <td>e</td>\n",
       "      <td>2016-06-06</td>\n",
       "      <td>17:58</td>\n",
       "      <td>0</td>\n",
       "      <td>6285.714286</td>\n",
       "      <td>2016-06-06 17:58:00</td>\n",
       "    </tr>\n",
       "    <tr>\n",
       "      <td>...</td>\n",
       "      <td>...</td>\n",
       "      <td>...</td>\n",
       "      <td>...</td>\n",
       "      <td>...</td>\n",
       "      <td>...</td>\n",
       "      <td>...</td>\n",
       "      <td>...</td>\n",
       "      <td>...</td>\n",
       "    </tr>\n",
       "    <tr>\n",
       "      <td>754882</td>\n",
       "      <td>257</td>\n",
       "      <td>502574</td>\n",
       "      <td>c</td>\n",
       "      <td>2018-09-12</td>\n",
       "      <td>14:02</td>\n",
       "      <td>0</td>\n",
       "      <td>142.857143</td>\n",
       "      <td>2018-09-12 14:02:00</td>\n",
       "    </tr>\n",
       "    <tr>\n",
       "      <td>754883</td>\n",
       "      <td>257</td>\n",
       "      <td>502726</td>\n",
       "      <td>e</td>\n",
       "      <td>2018-09-12</td>\n",
       "      <td>14:03</td>\n",
       "      <td>0</td>\n",
       "      <td>38571.428571</td>\n",
       "      <td>2018-09-12 14:03:00</td>\n",
       "    </tr>\n",
       "    <tr>\n",
       "      <td>754884</td>\n",
       "      <td>257</td>\n",
       "      <td>502727</td>\n",
       "      <td>h</td>\n",
       "      <td>2018-09-14</td>\n",
       "      <td>17:03</td>\n",
       "      <td>0</td>\n",
       "      <td>71342.857143</td>\n",
       "      <td>2018-09-14 17:03:00</td>\n",
       "    </tr>\n",
       "    <tr>\n",
       "      <td>754885</td>\n",
       "      <td>257</td>\n",
       "      <td>502728</td>\n",
       "      <td>e</td>\n",
       "      <td>2018-09-17</td>\n",
       "      <td>18:13</td>\n",
       "      <td>0</td>\n",
       "      <td>31428.571429</td>\n",
       "      <td>2018-09-17 18:13:00</td>\n",
       "    </tr>\n",
       "    <tr>\n",
       "      <td>754886</td>\n",
       "      <td>257</td>\n",
       "      <td>502729</td>\n",
       "      <td>g</td>\n",
       "      <td>2018-09-22</td>\n",
       "      <td>13:57</td>\n",
       "      <td>0</td>\n",
       "      <td>47142.857143</td>\n",
       "      <td>2018-09-22 13:57:00</td>\n",
       "    </tr>\n",
       "  </tbody>\n",
       "</table>\n",
       "<p>708 rows × 8 columns</p>\n",
       "</div>"
      ],
      "text/plain": [
       "        store_id  card_id card_company transacted_date transacted_time  \\\n",
       "754179       257   502225            f      2016-06-04           15:53   \n",
       "754180       257   502226            f      2016-06-04           16:59   \n",
       "754181       257   502227            g      2016-06-06           10:08   \n",
       "754182       257   502227            g      2016-06-06           14:02   \n",
       "754183       257   502228            e      2016-06-06           17:58   \n",
       "...          ...      ...          ...             ...             ...   \n",
       "754882       257   502574            c      2018-09-12           14:02   \n",
       "754883       257   502726            e      2018-09-12           14:03   \n",
       "754884       257   502727            h      2018-09-14           17:03   \n",
       "754885       257   502728            e      2018-09-17           18:13   \n",
       "754886       257   502729            g      2018-09-22           13:57   \n",
       "\n",
       "        installment_term        amount            datetime  \n",
       "754179                 0   7857.142857 2016-06-04 15:53:00  \n",
       "754180                 0  23571.428571 2016-06-04 16:59:00  \n",
       "754181                 0   6285.714286 2016-06-06 10:08:00  \n",
       "754182                 0   3142.857143 2016-06-06 14:02:00  \n",
       "754183                 0   6285.714286 2016-06-06 17:58:00  \n",
       "...                  ...           ...                 ...  \n",
       "754882                 0    142.857143 2018-09-12 14:02:00  \n",
       "754883                 0  38571.428571 2018-09-12 14:03:00  \n",
       "754884                 0  71342.857143 2018-09-14 17:03:00  \n",
       "754885                 0  31428.571429 2018-09-17 18:13:00  \n",
       "754886                 0  47142.857143 2018-09-22 13:57:00  \n",
       "\n",
       "[708 rows x 8 columns]"
      ]
     },
     "execution_count": 35,
     "metadata": {},
     "output_type": "execute_result"
    }
   ],
   "source": [
    "train[train['store_id']==257]"
   ]
  },
  {
   "cell_type": "markdown",
   "id": "550ef65c",
   "metadata": {},
   "source": [
    "##### 대표적인 계절성 특징의 예 > 257번 상점"
   ]
  },
  {
   "cell_type": "code",
   "execution_count": 36,
   "id": "8f736623",
   "metadata": {},
   "outputs": [
    {
     "data": {
      "text/plain": [
       "2016-06-30    4.891857e+05\n",
       "2016-07-29    1.595280e+06\n",
       "2016-08-31    1.518714e+06\n",
       "2016-09-30    3.369143e+05\n",
       "2016-10-31    4.245714e+05\n",
       "2016-11-30    2.000000e+00\n",
       "2016-12-30    2.000000e+00\n",
       "2017-01-31    2.000000e+00\n",
       "2017-02-28    2.000000e+00\n",
       "2017-03-31    2.000000e+00\n",
       "2017-04-28    3.928571e+04\n",
       "2017-05-31    1.557286e+05\n",
       "2017-06-30    5.481143e+05\n",
       "2017-07-31    7.359286e+05\n",
       "2017-08-31    7.909700e+05\n",
       "2017-09-29    6.191429e+04\n",
       "2017-10-31    1.027143e+06\n",
       "2017-11-30    2.000000e+00\n",
       "2017-12-29    2.000000e+00\n",
       "2018-01-31    2.000000e+00\n",
       "2018-02-28    2.000000e+00\n",
       "2018-03-30    2.000000e+00\n",
       "2018-04-30    2.000000e+00\n",
       "2018-05-31    2.493857e+05\n",
       "2018-06-29    4.822286e+05\n",
       "2018-07-31    8.999714e+05\n",
       "2018-08-31    1.645877e+06\n",
       "2018-09-28    2.767857e+05\n",
       "2018-10-31    2.000000e+00\n",
       "2018-11-30    2.000000e+00\n",
       "2018-12-31    2.000000e+00\n",
       "2019-01-31    2.000000e+00\n",
       "2019-02-28    2.000000e+00\n",
       "Freq: BM, dtype: float64"
      ]
     },
     "execution_count": 36,
     "metadata": {},
     "output_type": "execute_result"
    }
   ],
   "source": [
    "# store_id가 257번인 데이터를 시리즈 객체로 데이터 출력\n",
    "store_257 = time_series(resampling_data, 257)\n",
    "store_257"
   ]
  },
  {
   "cell_type": "markdown",
   "id": "1bfdca5c",
   "metadata": {},
   "source": [
    "데이터 전처리 과정에서 매출이 발생하지 않았던 월의 매출을 2로 대체했기 때문에  \n",
    "257번 상점은 11월~3월 동안 매출이 발생하지 않는다는 것을 알 수 있다."
   ]
  },
  {
   "cell_type": "code",
   "execution_count": 37,
   "id": "2526f9a0",
   "metadata": {},
   "outputs": [
    {
     "data": {
      "image/png": "[encoded data removed]",
      "text/plain": [
       "<Figure size 972x360 with 1 Axes>"
      ]
     },
     "metadata": {
      "needs_background": "light"
     },
     "output_type": "display_data"
    }
   ],
   "source": [
    "# 시계열 그래프 그리기\n",
    "store_plot_257 = store_257.plot()\n",
    "fig = store_plot_257.get_figure()\n",
    "fig.set_size_inches(13.5,5)"
   ]
  },
  {
   "cell_type": "markdown",
   "id": "c57caccb",
   "metadata": {},
   "source": [
    "-> 3월~5월에는 많은 매출액이 발생하지 않을 것이라는 것을 시계열 그래프를 통해 직관적으로 알 수 있음. "
   ]
  },
  {
   "cell_type": "code",
   "execution_count": 38,
   "id": "d27e03d5",
   "metadata": {},
   "outputs": [
    {
     "data": {
      "text/plain": [
       "2016-07-29    5.075429e+04\n",
       "2016-08-31    9.219543e+05\n",
       "2016-09-30    4.720786e+05\n",
       "2016-10-31    5.145714e+05\n",
       "2016-11-30    1.494286e+05\n",
       "2016-12-30    1.071686e+06\n",
       "2017-01-31    1.602857e+06\n",
       "2017-02-28    1.332143e+06\n",
       "2017-03-31    2.432143e+05\n",
       "2017-04-28    3.903143e+06\n",
       "2017-05-31    1.729500e+06\n",
       "2017-06-30    4.280214e+06\n",
       "2017-07-31    1.775714e+06\n",
       "2017-08-31    7.428571e+05\n",
       "2017-09-29    1.415714e+06\n",
       "2017-10-31    1.180714e+06\n",
       "2017-11-30    4.640000e+05\n",
       "2017-12-29    1.389729e+06\n",
       "2018-01-31    2.000000e+00\n",
       "2018-02-28    8.285714e+05\n",
       "2018-03-30    7.857143e+05\n",
       "2018-04-30    6.670429e+06\n",
       "2018-05-31    1.837286e+05\n",
       "2018-06-29    3.285714e+06\n",
       "2018-07-31    9.502857e+05\n",
       "2018-08-31    3.675200e+06\n",
       "2018-09-28    1.793886e+06\n",
       "2018-10-31    4.717743e+06\n",
       "2018-11-30    7.593600e+06\n",
       "2018-12-31    1.428571e+06\n",
       "2019-01-31    4.285714e+05\n",
       "2019-02-28    1.428571e+06\n",
       "Freq: BM, dtype: float64"
      ]
     },
     "execution_count": 38,
     "metadata": {},
     "output_type": "execute_result"
    }
   ],
   "source": [
    "# store_id가 2096번인 데이터를 시리즈 객체로 데이터 출력\n",
    "store_2096 = time_series(resampling_data, 2096)\n",
    "store_2096"
   ]
  },
  {
   "cell_type": "code",
   "execution_count": 39,
   "id": "2c6e1281",
   "metadata": {},
   "outputs": [
    {
     "data": {
      "image/png": "[encoded data removed]",
      "text/plain": [
       "<Figure size 972x360 with 1 Axes>"
      ]
     },
     "metadata": {
      "needs_background": "light"
     },
     "output_type": "display_data"
    }
   ],
   "source": [
    "# 시계열 그래프 그리기\n",
    "store_plot_2096 = store_2096.plot()\n",
    "fig = store_plot_2096.get_figure()\n",
    "fig.set_size_inches(13.5,5)"
   ]
  },
  {
   "cell_type": "markdown",
   "id": "6e7e1a98",
   "metadata": {},
   "source": [
    "store_id가 2096번인 상점  \n",
    "-> 3월~5월에는 많은 매출액이 급 상승할 것이라는 것을 시계열 그래프를 통해 직관적으로 알 수 있음."
   ]
  },
  {
   "cell_type": "markdown",
   "id": "acacb8f2",
   "metadata": {},
   "source": [
    "#### 추세가 있는 상점"
   ]
  },
  {
   "cell_type": "markdown",
   "id": "45ee9397",
   "metadata": {},
   "source": [
    "매출액이 꾸준히 증가하거나 꾸준히 감소하는 상점.  "
   ]
  },
  {
   "cell_type": "code",
   "execution_count": 40,
   "id": "c897f76a",
   "metadata": {},
   "outputs": [
    {
     "data": {
      "image/png": "[encoded data removed]",
      "text/plain": [
       "<Figure size 972x360 with 1 Axes>"
      ]
     },
     "metadata": {
      "needs_background": "light"
     },
     "output_type": "display_data"
    }
   ],
   "source": [
    "# store_id가 335인 상점의 시계열 그래프\n",
    "store_335 = time_series(resampling_data, 335)\n",
    "\n",
    "store_plot_335 = store_335.plot()\n",
    "fig = store_plot_335.get_figure()\n",
    "fig.set_size_inches(13.5,5)"
   ]
  },
  {
   "cell_type": "markdown",
   "id": "3552c2f5",
   "metadata": {},
   "source": [
    "매출액 증감 등의 변동은 매월 있음을 시계열 그래프를 통해 확인 할 수 있다.  \n",
    "월단위의 작은 변동 보다는, 기간을 1년 단위로 늘려서 추세를 파악할 필요가 있다.  \n",
    "데이터 전체의 기간을 절반으로 나누면,  \n",
    "2016.06 ~ 2017.10 -> 매출액 감소추세<br>\n",
    "2017.11 ~ 2019.02 -> 매출액 증가추세<br><br>\n",
    "\n",
    "따라서 2019.03~2019.05의 매출을 예측할 때에는  \n",
    "증가 추세임을 고려해야 한다는 것을 알 수 있다.  "
   ]
  },
  {
   "cell_type": "markdown",
   "id": "83780756",
   "metadata": {},
   "source": [
    "##### 매출액 감소추세의 예 >  510번 상점"
   ]
  },
  {
   "cell_type": "code",
   "execution_count": 41,
   "id": "d18d8147",
   "metadata": {},
   "outputs": [
    {
     "data": {
      "image/png": "[encoded data removed]",
      "text/plain": [
       "<Figure size 972x360 with 1 Axes>"
      ]
     },
     "metadata": {
      "needs_background": "light"
     },
     "output_type": "display_data"
    }
   ],
   "source": [
    "# store_id가 510인 상점의 시계열 그래프\n",
    "store_510 = time_series(resampling_data, 510)\n",
    "store_plot_510 = store_510.plot()\n",
    "fig = store_plot_510.get_figure()\n",
    "fig.set_size_inches(13.5,5)"
   ]
  },
  {
   "cell_type": "markdown",
   "id": "00686b48",
   "metadata": {},
   "source": [
    "#### 휴업 중인 상점"
   ]
  },
  {
   "cell_type": "markdown",
   "id": "3c29a23c",
   "metadata": {},
   "source": [
    "##### 대표적인 휴업 특징의 예 > 111번 상점"
   ]
  },
  {
   "cell_type": "code",
   "execution_count": 42,
   "id": "03343c28",
   "metadata": {},
   "outputs": [
    {
     "data": {
      "text/plain": [
       "2016-06-30    812428.571429\n",
       "2016-07-29    391142.857143\n",
       "2016-08-31     13071.428571\n",
       "2016-09-30    495714.285714\n",
       "2016-10-31    182714.285714\n",
       "2016-11-30    178571.428571\n",
       "2016-12-30     43005.714286\n",
       "2017-01-31         2.000000\n",
       "2017-02-28      5428.571429\n",
       "2017-03-31     24857.142857\n",
       "2017-04-28    108000.000000\n",
       "2017-05-31    459142.857143\n",
       "2017-06-30    137571.428571\n",
       "2017-07-31    216285.714286\n",
       "2017-08-31     77000.000000\n",
       "2017-09-29     78005.714286\n",
       "2017-10-31         2.000000\n",
       "2017-11-30         2.000000\n",
       "2017-12-29         2.000000\n",
       "2018-01-31      1428.571429\n",
       "2018-02-28    309785.714286\n",
       "2018-03-30    259071.428571\n",
       "2018-04-30    225858.571429\n",
       "2018-05-31    105571.428571\n",
       "2018-06-29         2.000000\n",
       "2018-07-31    123285.714286\n",
       "2018-08-31         2.000000\n",
       "2018-09-28     83000.000000\n",
       "2018-10-31         2.000000\n",
       "2018-11-30         2.000000\n",
       "2018-12-31         2.000000\n",
       "2019-01-31         2.000000\n",
       "2019-02-28         2.000000\n",
       "Freq: BM, dtype: float64"
      ]
     },
     "execution_count": 42,
     "metadata": {},
     "output_type": "execute_result"
    }
   ],
   "source": [
    "# 상점 아이디가 111번인 데이터를 시리즈 객체로 데이터 출력\n",
    "store_111 = time_series(resampling_data, 111)\n",
    "store_111"
   ]
  },
  {
   "cell_type": "code",
   "execution_count": 43,
   "id": "cc055785",
   "metadata": {},
   "outputs": [
    {
     "data": {
      "image/png": "[encoded data removed]",
      "text/plain": [
       "<Figure size 972x360 with 1 Axes>"
      ]
     },
     "metadata": {
      "needs_background": "light"
     },
     "output_type": "display_data"
    }
   ],
   "source": [
    "# 상점 아이디가 111번인 상점의 시계열 그래프\n",
    "store_plot_111 = store_111.plot()\n",
    "fig = store_plot_111.get_figure()\n",
    "fig.set_size_inches(13.5,5)"
   ]
  },
  {
   "cell_type": "markdown",
   "id": "9cf364a3",
   "metadata": {},
   "source": [
    "-> 직관적으로 2019년 3월 ~ 2019년 5월에는 매출이 발생하지 않을 것으로 예측할 수 있음"
   ]
  },
  {
   "cell_type": "markdown",
   "id": "0c1630eb",
   "metadata": {},
   "source": [
    "##### 장기휴업 후 영업재개한 상점의 예 > 279번 상점"
   ]
  },
  {
   "cell_type": "code",
   "execution_count": 44,
   "id": "78c8a79f",
   "metadata": {},
   "outputs": [
    {
     "data": {
      "text/plain": [
       "2016-06-30    4.488571e+05\n",
       "2016-07-29    1.156286e+06\n",
       "2016-08-31    1.372857e+06\n",
       "2016-09-30    3.150000e+05\n",
       "2016-10-31    8.748571e+05\n",
       "2016-11-30    3.128571e+05\n",
       "2016-12-30    5.828571e+05\n",
       "2017-01-31    3.214286e+04\n",
       "2017-02-28    2.000000e+00\n",
       "2017-03-31    4.955714e+05\n",
       "2017-04-28    5.940000e+05\n",
       "2017-05-31    1.041143e+06\n",
       "2017-06-30    8.354286e+05\n",
       "2017-07-31    6.171429e+05\n",
       "2017-08-31    4.284286e+05\n",
       "2017-09-29    1.581258e+06\n",
       "2017-10-31    3.294286e+05\n",
       "2017-11-30    2.241429e+05\n",
       "2017-12-29    2.785714e+05\n",
       "2018-01-31    4.018571e+05\n",
       "2018-02-28    1.282857e+05\n",
       "2018-03-30    2.000000e+00\n",
       "2018-04-30    2.000000e+00\n",
       "2018-05-31    2.000000e+00\n",
       "2018-06-29    2.000000e+00\n",
       "2018-07-31    2.000000e+00\n",
       "2018-08-31    2.000000e+00\n",
       "2018-09-28    2.000000e+00\n",
       "2018-10-31    2.000000e+00\n",
       "2018-11-30    2.101429e+05\n",
       "2018-12-31    2.191571e+05\n",
       "2019-01-31    1.779286e+05\n",
       "2019-02-28    5.157143e+04\n",
       "Freq: BM, dtype: float64"
      ]
     },
     "execution_count": 44,
     "metadata": {},
     "output_type": "execute_result"
    }
   ],
   "source": [
    "# 상점 아이디가 279번인 데이터를 시리즈 객체로 데이터 출력\n",
    "store_279 = time_series(resampling_data, 279)\n",
    "store_279"
   ]
  },
  {
   "cell_type": "code",
   "execution_count": 45,
   "id": "5c653692",
   "metadata": {},
   "outputs": [
    {
     "data": {
      "image/png": "[encoded data removed]",
      "text/plain": [
       "<Figure size 972x360 with 1 Axes>"
      ]
     },
     "metadata": {
      "needs_background": "light"
     },
     "output_type": "display_data"
    }
   ],
   "source": [
    "# 상점 아이디가 279번인 상점의 시계열 그래프\n",
    "store_plot_279 = store_279.plot()\n",
    "fig = store_plot_279.get_figure()\n",
    "fig.set_size_inches(13.5,5)"
   ]
  },
  {
   "cell_type": "markdown",
   "id": "900d4f34",
   "metadata": {},
   "source": [
    "-> 2019년 3월 ~ 2019년 5월에는 휴업이 예상됨"
   ]
  },
  {
   "cell_type": "markdown",
   "id": "48ed72eb",
   "metadata": {},
   "source": [
    "### 3-2. 시계열 데이터의 정상성"
   ]
  },
  {
   "cell_type": "markdown",
   "id": "b29d518e",
   "metadata": {},
   "source": [
    "<b>[정상성]\n",
    "* 추세나 계절성이 없는 시계열 데이터  \n",
    "* 데이터가 시간의 변동에 따라 평균과 분산이 일정함.<br><br>\n",
    "  \n",
    "1. ADF-Test 사용하여 정상성 판단\n",
    "2. 차분을 통해 비정상 시계열 -> 정상 시계열로 변환"
   ]
  },
  {
   "cell_type": "markdown",
   "id": "b3701507",
   "metadata": {},
   "source": [
    "#### ADF-TEST"
   ]
  },
  {
   "cell_type": "markdown",
   "id": "e97b888f",
   "metadata": {},
   "source": [
    "<b> Augmented Dickey-Fuller-Test  \n",
    "* 시계열 데이터가 정상성을 가지는지 판단할 때 사용\n",
    "* 회귀분석 결과로 나온 계수를 검정 통계량으로 사용\n",
    "* ADF-Test를 통해 시계열 데이터가 정상성을 가지는지 검정하고,  \n",
    "  정상성을 가지지 않으면 차분을 통해 평균을 일정하게 만들어 줘야 함.\n",
    "* 차분: 비정상 시계열을 평균이 일정한 정상 시계열로 바꾸는 기법."
   ]
  },
  {
   "cell_type": "markdown",
   "id": "9d4d34c9",
   "metadata": {},
   "source": [
    "##### 정상 시계열의 예 > 0번 상점"
   ]
  },
  {
   "cell_type": "code",
   "execution_count": 46,
   "id": "9ed9f85c",
   "metadata": {},
   "outputs": [
    {
     "data": {
      "image/png": "[encoded data removed]",
      "text/plain": [
       "<Figure size 972x360 with 1 Axes>"
      ]
     },
     "metadata": {
      "needs_background": "light"
     },
     "output_type": "display_data"
    }
   ],
   "source": [
    "# 상점 아이디가 0번인 상점의 시계열 그래프\n",
    "store_0 = time_series(resampling_data, 0)\n",
    "store_plot_0 = store_0.plot()\n",
    "fig = store_plot_0.get_figure()\n",
    "fig.set_size_inches(13.5,5)"
   ]
  },
  {
   "cell_type": "markdown",
   "id": "3aac8f9f",
   "metadata": {},
   "source": [
    "-> 매출액 시계열의 평균과 분산이 일정함."
   ]
  },
  {
   "cell_type": "markdown",
   "id": "38085fb3",
   "metadata": {},
   "source": [
    "##### 비정상 시계열의 예 > 257번 상점(계절성 有)"
   ]
  },
  {
   "cell_type": "code",
   "execution_count": 47,
   "id": "f14bb270",
   "metadata": {},
   "outputs": [
    {
     "data": {
      "image/png": "[encoded data removed]",
      "text/plain": [
       "<Figure size 972x360 with 1 Axes>"
      ]
     },
     "metadata": {
      "needs_background": "light"
     },
     "output_type": "display_data"
    }
   ],
   "source": [
    "# 상점 아이디가 257번인 상점의 시계열 그래프\n",
    "store_257 = time_series(resampling_data, 257)\n",
    "store_plot_257 = store_257.plot()\n",
    "fig = store_plot_257.get_figure()\n",
    "fig.set_size_inches(13.5,5)"
   ]
  },
  {
   "cell_type": "markdown",
   "id": "a36d466a",
   "metadata": {},
   "source": [
    "-> 매출액 시계열이 계절성을 띠고, 평균과 분산의 변동 폭이 큼"
   ]
  },
  {
   "cell_type": "markdown",
   "id": "2d3cdecf",
   "metadata": {},
   "source": [
    "#### ADF-Test를 통해 0번 상점과 257번 상점이 정상 시계열인지 확인 해보기"
   ]
  },
  {
   "cell_type": "markdown",
   "id": "972a1f36",
   "metadata": {},
   "source": [
    "ADF-Test는 통계학에서 시행하는 가설 검정의 절차를 따른다.<br><br>\n",
    "<가설설정><br>\n",
    "귀무가설($H_{0}$) : 시계열 자료가 정상 시계열이 아니다.<br>\n",
    "대립가설($H_{1}$) : 시계열 자료가 정상성을 만족한다."
   ]
  },
  {
   "cell_type": "markdown",
   "id": "43b4b5ce",
   "metadata": {},
   "source": [
    "#### pmdarima 패키지에 있는 ADF-Test 클래스를 임포트해 가설 검정을 시행하는 코드"
   ]
  },
  {
   "cell_type": "code",
   "execution_count": 48,
   "id": "2cdd0e5d",
   "metadata": {
    "scrolled": true
   },
   "outputs": [
    {
     "name": "stdout",
     "output_type": "stream",
     "text": [
      "p_val : 0.022488 , should_diff : False\n"
     ]
    }
   ],
   "source": [
    "# pmdarima 패키지에 있는 ADFTest 클래스를 임포트\n",
    "from pmdarima.arima import ADFTest\n",
    "\n",
    "# 상점 아이디가 0번인 데이터를 시리즈 객체로 변환\n",
    "store_0 = time_series(resampling_data, 0)\n",
    "\n",
    "# ADF-Test 시행\n",
    "p_val, should_diff = ADFTest().should_diff(store_0)\n",
    "print('p_val : %f , should_diff : %s' %(p_val, should_diff))"
   ]
  },
  {
   "cell_type": "markdown",
   "id": "5f51d72c",
   "metadata": {},
   "source": [
    "-> p_val < 0.05이므로, $H_{0}$ 기각(정상성을 만족함) & 차분 불필요"
   ]
  },
  {
   "cell_type": "code",
   "execution_count": 49,
   "id": "dce08229",
   "metadata": {},
   "outputs": [
    {
     "name": "stdout",
     "output_type": "stream",
     "text": [
      "p_val : 0.093614 , should_diff : True\n"
     ]
    }
   ],
   "source": [
    "# 상점 아이디가 257번인 데이터를 시리즈 객체로 변환\n",
    "store_257 = time_series(resampling_data, 257)\n",
    "# ADF-Test 시행\n",
    "p_val, should_diff = ADFTest().should_diff(store_257)\n",
    "print('p_val : %f , should_diff : %s' %(p_val, should_diff))"
   ]
  },
  {
   "cell_type": "markdown",
   "id": "a1097616",
   "metadata": {},
   "source": [
    "-> p_val > 0.05이므로, $H_{0}$ 채택(정상 시계열이 아님) & 차분 필요 !"
   ]
  },
  {
   "cell_type": "markdown",
   "id": "5350163f",
   "metadata": {},
   "source": [
    "* <b> 이런 식으로 1,967개의 상점을 개별적으로 가설검정을 하면 비효율적<br>\n",
    "    -> 1,967개 상점의 ADF-Test의 p-value값을 파이썬의 리스트 자료형에 저장 & boxplot으로 p-value값의 분포 확인<br><br>\n",
    "* p-value < 0.05 인 상점개수 계산<br><br>              \n",
    "* 매출이 수개월간 발생하지 않는 상점은 ADF-Test 오류 발생하기때문에, 예외처리 진행 (ex> 795번 상점)"
   ]
  },
  {
   "cell_type": "code",
   "execution_count": 51,
   "id": "c519b195",
   "metadata": {},
   "outputs": [
    {
     "name": "stderr",
     "output_type": "stream",
     "text": [
      "100%|█████████████████████████████████████████████████████████████████████████████| 1967/1967 [00:07<00:00, 246.07it/s]\n"
     ]
    },
    {
     "data": {
      "text/plain": [
       "<AxesSubplot:>"
      ]
     },
     "execution_count": 51,
     "metadata": {},
     "output_type": "execute_result"
    },
    {
     "data": {
      "image/png": "[encoded data removed]",
      "text/plain": [
       "<Figure size 576x288 with 1 Axes>"
      ]
     },
     "metadata": {
      "needs_background": "light"
     },
     "output_type": "display_data"
    }
   ],
   "source": [
    "# ARIMA 모델의 차분 여부를 결정하기 위한 단위근 검정\n",
    "def adf_test(y):\n",
    "    return ADFTest().should_diff(y)[0]\n",
    "\n",
    "# 전체 상점 adf_test p-value 값을 리스트에 저장 & boxplot 그리기\n",
    "adf_p = []\n",
    "count = 0\n",
    "skipped = []\n",
    "\n",
    "for i in tqdm(resampling_data['store_id'].unique()):\n",
    "    # store_id가 i인 상점의 데이터를 시리즈 객체로 변환해서 ts로 저장\n",
    "    ts = time_series(resampling_data,i)\n",
    "    \n",
    "    # 예외처리\n",
    "    # p-value < 0.05인 경우(정상 시계열. 차분 불필요) -> 리스트에 저장\n",
    "    try:\n",
    "        p_val = adf_test(ts)\n",
    "        if p_val < 0.05:\n",
    "            count += 1\n",
    "        adf_p.append(p_val)\n",
    "    \n",
    "    # ADF-Test 오류 발생하는 경우-> 매출이 수개월간 발생하지 않는 상점(795번 상점)\n",
    "    except:\n",
    "        skipped.append(i)\n",
    "\n",
    "\n",
    "# 그래프 그리기\n",
    "plt.figure(figsize=(8, 4))\n",
    "sns.boxplot(adf_p)"
   ]
  },
  {
   "cell_type": "code",
   "execution_count": 52,
   "id": "31b873f0",
   "metadata": {},
   "outputs": [
    {
     "name": "stdout",
     "output_type": "stream",
     "text": [
      "259\n"
     ]
    }
   ],
   "source": [
    "# p-value < 0.05인 상점의 개수 (정상 시계열. 차분 불필요)\n",
    "print(count)"
   ]
  },
  {
   "cell_type": "code",
   "execution_count": 53,
   "id": "456642c6",
   "metadata": {},
   "outputs": [
    {
     "name": "stdout",
     "output_type": "stream",
     "text": [
      "There is no skipped data\n"
     ]
    }
   ],
   "source": [
    "# ADF-Test 오류 상점 개수\n",
    "if skipped:\n",
    "    print(f\"WarningCount: {len(skipped)}, store_id_list:{skipped}\")\n",
    "    \n",
    "else:\n",
    "    print( 'There is no skipped data' )"
   ]
  },
  {
   "cell_type": "code",
   "execution_count": 54,
   "id": "80d7c151",
   "metadata": {},
   "outputs": [
    {
     "data": {
      "text/plain": [
       "259"
      ]
     },
     "execution_count": 54,
     "metadata": {},
     "output_type": "execute_result"
    }
   ],
   "source": [
    "count"
   ]
  },
  {
   "cell_type": "code",
   "execution_count": 63,
   "id": "de12f111",
   "metadata": {
    "scrolled": true
   },
   "outputs": [
    {
     "data": {
      "text/plain": [
       "0"
      ]
     },
     "execution_count": 63,
     "metadata": {},
     "output_type": "execute_result"
    }
   ],
   "source": [
    "len(skipped)"
   ]
  },
  {
   "cell_type": "code",
   "execution_count": 57,
   "id": "0d2a5403",
   "metadata": {},
   "outputs": [
    {
     "data": {
      "image/png": "[encoded data removed]",
      "text/plain": [
       "<Figure size 972x360 with 1 Axes>"
      ]
     },
     "metadata": {
      "needs_background": "light"
     },
     "output_type": "display_data"
    }
   ],
   "source": [
    "# 상점 아이디가 795번인 상점의 시계열 그래프\n",
    "store_795 = time_series(resampling_data, 795)\n",
    "store_plot_795 = store_795.plot()\n",
    "fig = store_plot_795.get_figure()\n",
    "fig.set_size_inches(13.5,5)"
   ]
  },
  {
   "cell_type": "code",
   "execution_count": 58,
   "id": "59ca0a90",
   "metadata": {},
   "outputs": [
    {
     "name": "stdout",
     "output_type": "stream",
     "text": [
      "p_val : nan , should_diff : False\n"
     ]
    }
   ],
   "source": [
    "# 상점 아이디가 795번인 데이터를 시리즈 객체로 변환\n",
    "store_795 = time_series(resampling_data, 795)\n",
    "# ADF-Test 시행\n",
    "p_val, should_diff = ADFTest().should_diff(store_795)\n",
    "print('p_val : %f , should_diff : %s' %(p_val, should_diff))"
   ]
  },
  {
   "cell_type": "markdown",
   "id": "674041f7",
   "metadata": {},
   "source": [
    "## 4. 모델 구축과 검증"
   ]
  },
  {
   "cell_type": "markdown",
   "id": "cb9fe4b8",
   "metadata": {},
   "source": [
    "### 4-1. 모델링"
   ]
  },
  {
   "cell_type": "markdown",
   "id": "1717c45d",
   "metadata": {},
   "source": [
    "#### 파이썬에서 R 시계열 패키지 forecast를 통한 모델링"
   ]
  },
  {
   "cell_type": "code",
   "execution_count": 59,
   "id": "af20184e",
   "metadata": {},
   "outputs": [
    {
     "data": {
      "text/plain": [
       "rpy2.rinterface.NULL"
      ]
     },
     "execution_count": 59,
     "metadata": {},
     "output_type": "execute_result"
    }
   ],
   "source": [
    "from rpy2.robjects.packages import importr # rpy2 내의 패키지를 불러올 importr 클래스\n",
    "\n",
    "utils = importr('utils') # utils 패키지를 임포트\n",
    "utils.install_packages('forecast') # r의 forecast 패키지 설치.\n",
    "utils.install_packages('forecastHybrid') # r의 forecastHybrid 패키지 설치"
   ]
  },
  {
   "cell_type": "code",
   "execution_count": 70,
   "id": "3d9518ea",
   "metadata": {},
   "outputs": [
    {
     "data": {
      "text/plain": [
       "2007226.9722140946"
      ]
     },
     "execution_count": 70,
     "metadata": {},
     "output_type": "execute_result"
    }
   ],
   "source": [
    "# robjects: R 함수를 파이썬에서 사용 가능하게 변환하는 모듈\n",
    "import rpy2.robjects as robjects\n",
    "\n",
    "# pandas2ri : 파이썬 자료형과 R 자료형의 호환을 도와주는 모듈\n",
    "from rpy2.robjects import pandas2ri \n",
    "\n",
    "# pandas2ri를 활성화 \n",
    "pandas2ri.activate()\n",
    "\n",
    "# auto_arima 함수 정의 (Str형식 & r코드)\n",
    "auto_arima = \"\"\"\n",
    "    function(ts){\n",
    "        library(forecast)                             # forecast 패키지 로드\n",
    "        d_params = ndiffs(ts)                         # 시계열 자료의 차분 횟수 계산\n",
    "        model = auto.arima(ts, max.p=2, d=d_params)   # auto.arima 모델 생성\n",
    "        forecasted_data = forecast(model, h=3)        # 이후 3개월(h=3)을 예측\n",
    "        out_df = data.frame(forecasted_data$mean)     # 예측값을 R의 데이터프레임으로 변환\n",
    "        colnames(out_df) = c('amount')                # amount라는 열로 이름을 지정\n",
    "        out_df\n",
    "    }\n",
    "\"\"\"\n",
    "# robjects의 r() 함수: R의 시계열 자료형을 생성해주는 'ts함수'와 벡터를 생성해주는 'c함수'를 사용할 수 있게 해줌\n",
    "auto_arima = robjects.r(auto_arima)\n",
    "\n",
    "ts = robjects.r('ts')# r의 시계열 자료형으로 만들어주는 함수\n",
    "c = robjects.r('c') # r의 자료형 벡터를 만들어주는 함수\n",
    "\n",
    "# store_id가 0번인 상점의 데이터를 Down Sampling\n",
    "store_0 = resampling_data[resampling_data['store_id']==0]\n",
    "start_year = int(min(store_0['year_month'])[:4]) # 영업 시작 년도\n",
    "start_month = int(min(store_0['year_month'])[5:]) # 영업 시작 월\n",
    "    \n",
    "# R의 ts 함수: R의 time series 자료형으로 변환\n",
    "train = ts(store_0['amount'], start=c(start_year, start_month), frequency=12) \n",
    "    \n",
    "# 자동회귀누적이동평균 model\n",
    "forecast = auto_arima(train)\n",
    "\n",
    "# auto_arima함수는 R의 데이터프레임 자료형으로 예측값을 반환하기 때문에,\n",
    "# pandas2ri 모듈에 있는 ri2py함수를 사용해 R자료형 -> 파이썬 자료형으로 변환\n",
    "np.sum(pandas2ri.ri2py(forecast).values) # 3개월 매출을 합산"
   ]
  },
  {
   "cell_type": "markdown",
   "id": "3fd0a816",
   "metadata": {},
   "source": [
    "### 4-2. 시계열 모델 선택과 검증 "
   ]
  },
  {
   "cell_type": "markdown",
   "id": "e5cee4be",
   "metadata": {},
   "source": [
    "#### AR (자기회귀 모델)\n",
    "Auto Regressive\n",
    "- 자신의 이전 관측값이 자신의 이후 관측값에 영향을 주는 모델\n",
    "- 미래 예측에 자기 과거를 사용함<br>\n",
    "### $y_{t}=c+\\phi_{1}y_{t-1}+\\phi_{2}y_{t-2}+\\cdots+\\phi_{p}y_{t-p}+\\varepsilon_{t}$\n",
    "\n",
    "#### MA (이동평균 모델)\n",
    "Moving Average\n",
    "- 현재 시계열 데이터가 과거 잔차들의 가중평균으로 구성\n",
    "- 잔차항은 백색잡음을 의미함\n",
    "- 현재 데이터는 과거 백색잡음의 평균값으로 설명된다는 것이 이 모델의 핵심<br>\n",
    "### $y_{t}=c+\\varepsilon_{t}+\\theta_{1}\\varepsilon_{t-1}+\\theta_{2}\\varepsilon_{t-2}+\\cdots+\\theta_{p}\\varepsilon_{t-p}$\n",
    "\n",
    "#### ARIMA (자귀회귀누적이동평균 모델)\n",
    "Auto Regressive Integrated Moving Average\n",
    "- AR모델과 MA 모델을 섞은 모델\n",
    "- 시계열 데이터가 정상성인 경우에 주로 적용됨\n",
    "- 초기 차분 단계를 한 번 이상 적용해 비정상성을 제거할 수 있음<br>\n",
    "### $y_{t}'=c+\\phi_{1}y'_{t-1}+\\cdots+\\phi_{p}y'_{t-p}+\\theta_{1}\\varepsilon_{t-1}+\\cdots+\\theta_{q}\\varepsilon_{t-q}+\\varepsilon_{t}$<br>\n",
    "-  $y_{t}'$:  차분을 구한 시계열<br>\n",
    "- p : 자기회귀의 부분 차수\n",
    "- d : 1차 차분이 포함된 정도\n",
    "- q : 이동평균의 부분 차수<br><br>\n",
    "- R의 forecast 패키지의 ndiffs함수-> 차분 횟수를 결정할 때, 적절한 차분 횟수를 반환 해 줌\n",
    "- R의 forecast 패키지의 auto.arima함수-> 최적화된 AR 항의 p값, MA항의 q값, I항에 대한 d값을 계산 해 줌."
   ]
  },
  {
   "cell_type": "markdown",
   "id": "3339ec2f",
   "metadata": {},
   "source": [
    "#### ARIMA"
   ]
  },
  {
   "cell_type": "code",
   "execution_count": 71,
   "id": "699e8f02",
   "metadata": {},
   "outputs": [
    {
     "name": "stderr",
     "output_type": "stream",
     "text": [
      "100%|██████████████████████████████████████████████████████████████████████████████| 1967/1967 [02:36<00:00, 12.53it/s]\n"
     ]
    }
   ],
   "source": [
    "# r 함수를 파이썬에서 사용 가능하게 변환하는 모듈\n",
    "import rpy2.robjects as robjects\n",
    "# 파이썬 자료형과 R 자료형의 호환을 도와주는 모듈\n",
    "from rpy2.robjects import pandas2ri \n",
    "\n",
    "# pandas2ri를 활성화 \n",
    "pandas2ri.activate()\n",
    "\n",
    "# auto_arima 함수 정의 (Str형식 & r코드)\n",
    "auto_arima = \"\"\"\n",
    "    function(ts){\n",
    "        library(forecast)                            # forecast 패키지 로드\n",
    "        d_params = ndiffs(ts)                        # 시계열 자료의 차분 횟수 계산\n",
    "        model = auto.arima(ts, max.p=2, d=d_params)  # auto.arima 모델 생성\n",
    "        forecasted_data = forecast(model, h=3)       # 이후 3개월(h=3)을 예측\n",
    "        out_df = data.frame(forecasted_data$mean)    # 예측값을 R의 데이터프레임으로 변환\n",
    "        colnames(out_df) = c('amount')               # amount라는 열로 이름을 지정\n",
    "        out_df                                       # 예측값 반환\n",
    "    }\n",
    "\"\"\"\n",
    "# r() 함수로 r 자료형을 파이썬에서 사용 가능\n",
    "auto_arima = robjects.r(auto_arima)# str 형식으로 정의된 auto_arima\n",
    "ts = robjects.r('ts')# r 자료형 time series 자료형으로 만들어주는 함수\n",
    "c = robjects.r('c') # r 자료형 벡터를 만들어주는 함수\n",
    "\n",
    "final_pred = [] # 상점별 미래 3개월 매출액 총합을 예측한 값을 담을 리스트\n",
    "\n",
    "for i in tqdm(resampling_data.store_id.unique()):\n",
    "    store = resampling_data[resampling_data['store_id']==i]\n",
    "    start_year = int(min(store['year_month'])[:4]) ## 영업 시작 년도\n",
    "    start_month = int(min(store['year_month'])[5:]) ## 영업 시작 월\n",
    "    \n",
    "    # R의 ts 함수로 time series 데이터로 변환\n",
    "    # 1년은 12개월이므로, frequency = 12\n",
    "    train = ts(store['amount'], start=c(start_year, start_month), frequency=12) \n",
    "    \n",
    "    # 자동회귀누적이동평균 model\n",
    "    forecast = auto_arima(train)\n",
    "    \n",
    "    # auto_arima함수는 R의 데이터프레임 자료형으로 예측값을 반환하기 때문에,\n",
    "    # pandas2ri 모듈에 있는 ri2py함수를 사용해 R자료형 -> 파이썬 자료형으로 변환\n",
    "    # 3개월 매출을 합산, final_pred에 추가\n",
    "    final_pred.append(np.sum(pandas2ri.ri2py(forecast).values))"
   ]
  },
  {
   "cell_type": "markdown",
   "id": "cbd47b73",
   "metadata": {},
   "source": [
    "#### submission 파일 생성 & 출력결과 확인"
   ]
  },
  {
   "cell_type": "code",
   "execution_count": 72,
   "id": "beb844e3",
   "metadata": {},
   "outputs": [
    {
     "data": {
      "text/html": [
       "<div>\n",
       "<style scoped>\n",
       "    .dataframe tbody tr th:only-of-type {\n",
       "        vertical-align: middle;\n",
       "    }\n",
       "\n",
       "    .dataframe tbody tr th {\n",
       "        vertical-align: top;\n",
       "    }\n",
       "\n",
       "    .dataframe thead th {\n",
       "        text-align: right;\n",
       "    }\n",
       "</style>\n",
       "<table border=\"1\" class=\"dataframe\">\n",
       "  <thead>\n",
       "    <tr style=\"text-align: right;\">\n",
       "      <th></th>\n",
       "      <th>store_id</th>\n",
       "      <th>amount</th>\n",
       "    </tr>\n",
       "  </thead>\n",
       "  <tbody>\n",
       "    <tr>\n",
       "      <td>0</td>\n",
       "      <td>0</td>\n",
       "      <td>2.007227e+06</td>\n",
       "    </tr>\n",
       "    <tr>\n",
       "      <td>1</td>\n",
       "      <td>1</td>\n",
       "      <td>2.886210e+05</td>\n",
       "    </tr>\n",
       "    <tr>\n",
       "      <td>2</td>\n",
       "      <td>2</td>\n",
       "      <td>1.276695e+06</td>\n",
       "    </tr>\n",
       "    <tr>\n",
       "      <td>3</td>\n",
       "      <td>4</td>\n",
       "      <td>2.697649e+06</td>\n",
       "    </tr>\n",
       "    <tr>\n",
       "      <td>4</td>\n",
       "      <td>5</td>\n",
       "      <td>8.291391e+05</td>\n",
       "    </tr>\n",
       "    <tr>\n",
       "      <td>...</td>\n",
       "      <td>...</td>\n",
       "      <td>...</td>\n",
       "    </tr>\n",
       "    <tr>\n",
       "      <td>1962</td>\n",
       "      <td>2132</td>\n",
       "      <td>2.190377e+06</td>\n",
       "    </tr>\n",
       "    <tr>\n",
       "      <td>1963</td>\n",
       "      <td>2133</td>\n",
       "      <td>7.414846e+05</td>\n",
       "    </tr>\n",
       "    <tr>\n",
       "      <td>1964</td>\n",
       "      <td>2134</td>\n",
       "      <td>9.818183e+04</td>\n",
       "    </tr>\n",
       "    <tr>\n",
       "      <td>1965</td>\n",
       "      <td>2135</td>\n",
       "      <td>1.755864e+06</td>\n",
       "    </tr>\n",
       "    <tr>\n",
       "      <td>1966</td>\n",
       "      <td>2136</td>\n",
       "      <td>6.935529e+06</td>\n",
       "    </tr>\n",
       "  </tbody>\n",
       "</table>\n",
       "<p>1967 rows × 2 columns</p>\n",
       "</div>"
      ],
      "text/plain": [
       "      store_id        amount\n",
       "0            0  2.007227e+06\n",
       "1            1  2.886210e+05\n",
       "2            2  1.276695e+06\n",
       "3            4  2.697649e+06\n",
       "4            5  8.291391e+05\n",
       "...        ...           ...\n",
       "1962      2132  2.190377e+06\n",
       "1963      2133  7.414846e+05\n",
       "1964      2134  9.818183e+04\n",
       "1965      2135  1.755864e+06\n",
       "1966      2136  6.935529e+06\n",
       "\n",
       "[1967 rows x 2 columns]"
      ]
     },
     "execution_count": 72,
     "metadata": {},
     "output_type": "execute_result"
    }
   ],
   "source": [
    "submission = pd.read_csv('./submission.csv')\n",
    "submission['amount'] = final_pred\n",
    "submission.to_csv('submission.csv', index=False)\n",
    "submission"
   ]
  },
  {
   "cell_type": "markdown",
   "id": "6796116d",
   "metadata": {},
   "source": [
    "#### ARIMA -> 완성된 제출 파일을 데이콘에 제출 & 리더보드 점수 확인 -> 18등 (844,384점)"
   ]
  },
  {
   "cell_type": "markdown",
   "id": "7ca63178",
   "metadata": {},
   "source": [
    "#### 지수평활법"
   ]
  },
  {
   "cell_type": "markdown",
   "id": "8cf377e7",
   "metadata": {},
   "source": [
    "1. 단순 지수평활법\n",
    "2. 홀트의 선형추세 기법\n",
    "3. 여러 지수평활 모델 中 최적의 모델 찾기\n",
    "4. 최종 예측 진행\n"
   ]
  },
  {
   "cell_type": "markdown",
   "id": "ff8e2b4d",
   "metadata": {},
   "source": [
    "#### 1) 단순 지수평활법\n",
    "* 가장 최근 관측값을 가장 중요하게 생각\n",
    "* 이전의 모든 관측값은 미래를 예측할 때 아무런 정보도 주지 않는다고 가정\n",
    "* 미래를 예측할 때, 가장 최근에 관측된 값에 가중치를 더 많이 줌\n",
    "* 추세나 계절성이 없을 때 주로 사용<br>\n",
    "   ### $ \\hat y_{T+1|T} = \\alpha y_{T}+\\alpha (1-\\alpha)y_{T-1}+\\alpha (1-\\alpha)^2y_{T-2}+\\cdots $\n"
   ]
  },
  {
   "cell_type": "markdown",
   "id": "a90636ba",
   "metadata": {},
   "source": [
    "* $\\alpha$는 평활매개변수, $0<\\alpha<1$\n",
    "* 가중치가 감소하는 비율은 $\\alpha$ 값을 이용하여 조정\n",
    "* 가중치에 해당하는 계수 -> 잔차의 제곱의 합(SSE)를 최소화하여 추정\n",
    "* 잔차(residual)은 $e_{t}=y_{t}-y'_{t}$ 로 명시<br>\n",
    "#### SSE  =  $\\sum_{t=1}^{T}(y_{t}-y'_{t|t-1})^2=\\sum_{t=1}^{T}e^2_{t}$"
   ]
  },
  {
   "cell_type": "markdown",
   "id": "1f29415b",
   "metadata": {},
   "source": [
    "#### 2) 홀트의 선형추세 기법\n",
    "* 추세가 있는 데이터를 예측할 수 있도록 단순 지수평활법을 확장한 방법\n",
    "* 단순 지수평활법에서 현재 시계열의 관측값의 가중평균(수준식)과 추세의 이동평균(추세식)을 고려\n",
    "* 예측식과 두 개의 평활식을 포함<br>\n",
    "    #### 예측식: $ \\hat y_{t+h|t} = l_{t}+hb_{t} $\n",
    "    $l_{t}$ : 시간 t에서 현재 시계열의 수준 추정값 (관측값의 가중평균) <br>\n",
    "    $b_{t}$ : 시간 t에서 현재 시계열의 추세 추정값 (추정된 추세의 이동평균)<br>\n",
    "       \n",
    "    #### 수준식: $ l_{t} = \\alpha y_{t}+(1-\\alpha)(l_{t-1}+b_{t-1}) $\n",
    "    $\\alpha$ : 수준의 평활 매개변수<br>\n",
    "    \n",
    "    #### 추세식: $ b_{t} = \\beta^{*}(l_{t}-l_{t-1})+(1-\\beta^{*})b_{t-1} $\n",
    "    $\\beta$ : 추세에 대한 평활 매개변수<br>\n"
   ]
  },
  {
   "cell_type": "markdown",
   "id": "3a2bc84a",
   "metadata": {},
   "source": [
    "#### 3) 여러 지수평활 모델中 현재 주어진 시계열 데이터에 맞는 모델 찾기 \n",
    "* R의 ets() 함수 -> 시계열 데이터에 대해 AIC 값을 최소로 하는 지수평활 모델을 추정 \n",
    "* AIC는 주어진 데이터셋에서 통계 모델의 상대적 품질을 나타내는 값\n",
    "* AIC: Akaike’s Information Criterion; 아카이케의 정보 기준<br>\n",
    "* AIC 값이 낮을수록 좋은 모델<br>\n",
    "#### AIC = -2ln(L) + 2k<br>\n",
    "* 2ln(L) : 모델의 적합도  \n",
    "* k : 추정된 모델의 파라미터 개수  \n",
    "* L : 우도(likelihood)를 나타냄  \n",
    "* AIC는 모델의 적합도가 높고 파라미터 개수가 적은 모델을 찾을 때 도움이 되는 지표 "
   ]
  },
  {
   "cell_type": "markdown",
   "id": "b6e15353",
   "metadata": {},
   "source": [
    "R의 forecast 패키지에 있는 ets()함수를 이용하여<br>\n",
    "1,967개 상점에 가장 적합한 지수평활 모델을 찾고 예측을 진행 해 보자"
   ]
  },
  {
   "cell_type": "code",
   "execution_count": 74,
   "id": "272c26ae",
   "metadata": {},
   "outputs": [
    {
     "name": "stderr",
     "output_type": "stream",
     "text": [
      "100%|██████████████████████████████████████████████████████████████████████████████| 1967/1967 [16:33<00:00,  1.98it/s]\n"
     ]
    }
   ],
   "source": [
    "# r 함수를 파이썬에서 사용 가능하게 변환하는 모듈\n",
    "import rpy2.robjects as robjects\n",
    "# 파이썬 자료형과 R 자료형의 호환을 도와주는 모듈\n",
    "from rpy2.robjects import pandas2ri \n",
    "\n",
    "# pandas2ri를 활성화 \n",
    "pandas2ri.activate()\n",
    "\n",
    "# ets 함수 정의 (Str형식 & r코드)\n",
    "ets = \"\"\"\n",
    "    function(ts){\n",
    "        library(forecast)                            # forecast 패키지 로드\n",
    "        model = ets(ts)                              # AIC가 낮은 지수평활 모델을 찾음 \n",
    "        forecasted_data = forecast(model, h=3)       # 이후 3개월(h=3)을 예측\n",
    "        out_df = data.frame(forecasted_data$mean)    # 예측값을 R의 데이터프레임으로 변환\n",
    "        colnames(out_df) = c('amount')               # amount라는 열로 이름을 지정\n",
    "        out_df                                       # 예측값 반환\n",
    "    }\n",
    "\"\"\"\n",
    "# r() 함수로 r 자료형을 파이썬에서 사용 가능\n",
    "ets = robjects.r(ets)# str 형식으로 정의된 ets\n",
    "ts = robjects.r('ts')# r 자료형 time series 자료형으로 만들어주는 함수\n",
    "c = robjects.r('c') # r 자료형 벡터를 만들어주는 함수\n",
    "\n",
    "# 예측값(상점별 미래 3개월 매출액 총합을 예측한 값)을 리스트로 저장\n",
    "final_pred = []\n",
    "\n",
    "for i in tqdm(resampling_data.store_id.unique()):\n",
    "    store = resampling_data[resampling_data['store_id']==i]\n",
    "    start_year = int(min(store['year_month'])[:4]) # 영업 시작 년도\n",
    "    start_month = int(min(store['year_month'])[5:]) # 영업 시작 월\n",
    "    \n",
    "    # R의 ts 함수로 time series 데이터로 변환\n",
    "    train = ts(store['amount'], start=c(start_year, start_month), frequency=12) \n",
    "    \n",
    "    # 지수평활법l\n",
    "    forecast = ets(train)\n",
    "    \n",
    "    # 3개월 매출을 합산, final_pred에 추가\n",
    "    final_pred.append(np.sum(pandas2ri.ri2py(forecast).values))"
   ]
  },
  {
   "cell_type": "markdown",
   "id": "c230aad1",
   "metadata": {},
   "source": [
    "#### submission 파일 생성 & 출력결과 확인"
   ]
  },
  {
   "cell_type": "code",
   "execution_count": 75,
   "id": "36f23ec5",
   "metadata": {},
   "outputs": [
    {
     "data": {
      "text/html": [
       "<div>\n",
       "<style scoped>\n",
       "    .dataframe tbody tr th:only-of-type {\n",
       "        vertical-align: middle;\n",
       "    }\n",
       "\n",
       "    .dataframe tbody tr th {\n",
       "        vertical-align: top;\n",
       "    }\n",
       "\n",
       "    .dataframe thead th {\n",
       "        text-align: right;\n",
       "    }\n",
       "</style>\n",
       "<table border=\"1\" class=\"dataframe\">\n",
       "  <thead>\n",
       "    <tr style=\"text-align: right;\">\n",
       "      <th></th>\n",
       "      <th>store_id</th>\n",
       "      <th>amount</th>\n",
       "    </tr>\n",
       "  </thead>\n",
       "  <tbody>\n",
       "    <tr>\n",
       "      <td>0</td>\n",
       "      <td>0</td>\n",
       "      <td>2.060501e+06</td>\n",
       "    </tr>\n",
       "    <tr>\n",
       "      <td>1</td>\n",
       "      <td>1</td>\n",
       "      <td>2.878790e+05</td>\n",
       "    </tr>\n",
       "    <tr>\n",
       "      <td>2</td>\n",
       "      <td>2</td>\n",
       "      <td>1.260318e+06</td>\n",
       "    </tr>\n",
       "    <tr>\n",
       "      <td>3</td>\n",
       "      <td>4</td>\n",
       "      <td>2.668637e+06</td>\n",
       "    </tr>\n",
       "    <tr>\n",
       "      <td>4</td>\n",
       "      <td>5</td>\n",
       "      <td>7.091162e+05</td>\n",
       "    </tr>\n",
       "    <tr>\n",
       "      <td>...</td>\n",
       "      <td>...</td>\n",
       "      <td>...</td>\n",
       "    </tr>\n",
       "    <tr>\n",
       "      <td>1962</td>\n",
       "      <td>2132</td>\n",
       "      <td>2.190512e+06</td>\n",
       "    </tr>\n",
       "    <tr>\n",
       "      <td>1963</td>\n",
       "      <td>2133</td>\n",
       "      <td>3.488475e+05</td>\n",
       "    </tr>\n",
       "    <tr>\n",
       "      <td>1964</td>\n",
       "      <td>2134</td>\n",
       "      <td>4.249576e+05</td>\n",
       "    </tr>\n",
       "    <tr>\n",
       "      <td>1965</td>\n",
       "      <td>2135</td>\n",
       "      <td>1.622992e+06</td>\n",
       "    </tr>\n",
       "    <tr>\n",
       "      <td>1966</td>\n",
       "      <td>2136</td>\n",
       "      <td>6.469047e+06</td>\n",
       "    </tr>\n",
       "  </tbody>\n",
       "</table>\n",
       "<p>1967 rows × 2 columns</p>\n",
       "</div>"
      ],
      "text/plain": [
       "      store_id        amount\n",
       "0            0  2.060501e+06\n",
       "1            1  2.878790e+05\n",
       "2            2  1.260318e+06\n",
       "3            4  2.668637e+06\n",
       "4            5  7.091162e+05\n",
       "...        ...           ...\n",
       "1962      2132  2.190512e+06\n",
       "1963      2133  3.488475e+05\n",
       "1964      2134  4.249576e+05\n",
       "1965      2135  1.622992e+06\n",
       "1966      2136  6.469047e+06\n",
       "\n",
       "[1967 rows x 2 columns]"
      ]
     },
     "execution_count": 75,
     "metadata": {},
     "output_type": "execute_result"
    }
   ],
   "source": [
    "submission = pd.read_csv('./submission.csv')\n",
    "submission['amount'] = final_pred\n",
    "submission.to_csv('submission.csv', index=False)\n",
    "submission"
   ]
  },
  {
   "cell_type": "markdown",
   "id": "68af0346",
   "metadata": {},
   "source": [
    "#### 지수평활법 -> 완성된 제출 파일을 데이콘에 제출 & 리더보드 점수 확인 -> 10등 (794,263점)"
   ]
  },
  {
   "cell_type": "markdown",
   "id": "06362f49",
   "metadata": {},
   "source": [
    "#### STL 분해를 적용한 지수평활법"
   ]
  },
  {
   "cell_type": "markdown",
   "id": "d12a452a",
   "metadata": {},
   "source": [
    "Seasonal and Trend decomposition using Loess; STL<br>\n",
    "- 시계열 데이터가 가진 시간 주기를 알고있는 경우,<br>\n",
    "    시계열 데이터를 계절성과 추세, 나머지 성분으로 분해하여 분석하는 기법\n",
    "- 파이썬의 statsmodels 패키지에서 STL 분해 기능을 제공함"
   ]
  },
  {
   "cell_type": "markdown",
   "id": "fe14f152",
   "metadata": {},
   "source": [
    "*예시> store_id가 0번인 데이터에 대해 STL 분해*\n",
    "- statsmodels의 seasonal_decompose() 함수는 STL 분해 기능을 제공함\n",
    "- 첫번째 인자에 numpy array형식으로 매출액 데이터를 넘겨줌\n",
    "- freq 인자는 월별로 다운 샘플링하며, 1년은 12개월이므로 freq=12로 설정"
   ]
  },
  {
   "cell_type": "code",
   "execution_count": 76,
   "id": "1004f219",
   "metadata": {},
   "outputs": [
    {
     "data": {
      "image/png": "[encoded data removed]",
      "text/plain": [
       "<Figure size 432x288 with 4 Axes>"
      ]
     },
     "metadata": {
      "needs_background": "light"
     },
     "output_type": "display_data"
    }
   ],
   "source": [
    "from statsmodels.tsa.seasonal import seasonal_decompose\n",
    "import matplotlib.pyplot as plt\n",
    "\n",
    "# 상점 아이디가 0번인 데이터를 시리즈 객체로 변환\n",
    "store_0 = time_series(resampling_data, 0)\n",
    "\n",
    "# STL 분해\n",
    "stl = seasonal_decompose(store_0.values, freq=12)\n",
    "stl.plot()\n",
    "plt.show()"
   ]
  },
  {
   "cell_type": "markdown",
   "id": "a8cb3b80",
   "metadata": {},
   "source": [
    "- 첫번째 그래프: 관측된 실제 매출액\n",
    "- 두번째 그래프: 추세(Trend)\n",
    "- 세번째 그래프: 계절성(Seasonal)\n",
    "- 네번째 그래프: 나머지 성분(Residual)\n",
    "#### 실제 관측값 = 추세 + 계절성 + 나머지 성분<br>\n",
    "- STL분해를 하는 이유 : 매출의 전반적인 트렌드, 계절성 등을 고려해야 정확한 모델을 만들 수 있기 때문\n",
    "- STL 분해를 적용하고 지수평활법을 통해 예측까지 진행 -> R의 Forecast패키지의 stlm()함수 사용 "
   ]
  },
  {
   "cell_type": "code",
   "execution_count": 82,
   "id": "1e507828",
   "metadata": {},
   "outputs": [
    {
     "name": "stderr",
     "output_type": "stream",
     "text": [
      "100%|██████████████████████████████████████████████████████████████████████████████| 1967/1967 [02:22<00:00, 13.76it/s]\n"
     ]
    }
   ],
   "source": [
    "# r 함수를 파이썬에서 사용 가능하게 변환하는 모듈\n",
    "import rpy2.robjects as robjects \n",
    "# 파이썬 자료형과 R 자료형의 호환을 도와주는 모듈\n",
    "from rpy2.robjects import pandas2ri \n",
    "\n",
    "# pandas2ri를 활성화 \n",
    "pandas2ri.activate()\n",
    "\n",
    "# stlm 함수 정의 (Str형식 & r코드)\n",
    "stlm = \"\"\"\n",
    "    function(ts){\n",
    "        library(forecast)                                    # forecast 패키지 로드    \n",
    "        model = stlm(ts, s.window=\"periodic\", method='ets')  # STL 분해 후 지수평활법을 통한 예측 \n",
    "        forecasted_data = forecast(model, h=3)               # 이후 3개월(h=3)을 예측\n",
    "        out_df = data.frame(forecasted_data$mean)            # 예측값을 R의 데이터프레임으로 변환\n",
    "        colnames(out_df) = c('amount')                       # amount라는 열로 이름을 지정\n",
    "        out_df                                               # 예측값 반환\n",
    "    }\n",
    "\"\"\"\n",
    "\n",
    "# ets 함수 정의 (Str형식 & r코드)\n",
    "ets = \"\"\"\n",
    "    function(ts){\n",
    "        library(forecast)                           # forecast 패키지 로드\n",
    "        model = ets(ts)                             # AIC가 낮은 지수평활 모델을 찾음 \n",
    "        forecasted_data = forecast(model, h=3)      # 이후 3개월(h=3)을 예측\n",
    "        out_df = data.frame(forecasted_data$mean)   # 예측값을 R의 데이터프레임으로 변환\n",
    "        colnames(out_df) = c('amount')              # amount라는 열로 이름을 지정\n",
    "        out_df                                      # 예측값 반환\n",
    "    }\n",
    "\"\"\"\n",
    "# r() 함수로 r을 파이썬에서 사용 가능\n",
    "stlm = robjects.r(stlm)# str 형식으로 정의된 stlm\n",
    "ets = robjects.r(ets)# str 형식으로 정의된 ets\n",
    "ts = robjects.r('ts')# r 자료형 time series 자료형으로 만들어주는 함수\n",
    "c = robjects.r('c') # r 자료형 벡터를 만들어주는 함수\n",
    "\n",
    "# 예측값(상점별 미래 3개월 매출액 총합을 예측한 값)을 리스트로 저장\n",
    "final_pred = []\n",
    "\n",
    "for i in tqdm(resampling_data.store_id.unique()):\n",
    "    store = resampling_data[resampling_data['store_id']==i]\n",
    "    \n",
    "    # 상점별 데이터 길이\n",
    "    data_len = len(store)\n",
    "    \n",
    "    start_year = int(min(store['year_month'])[:4]) # 영업 시작 년도\n",
    "    start_month = int(min(store['year_month'])[5:]) # 영업 시작 월\n",
    "    \n",
    "    # R의 ts 함수로 time series 데이터로 변환\n",
    "    train = ts(store['amount'], start=c(start_year, start_month), frequency=12) \n",
    "    \n",
    "    #\n",
    "    # STL 분해를 적용할 때 최소 2시즌(24개월)보다 많은 데이터가 필요하기 때문에,\n",
    "    # 24개월보다 많은 경우에만 -> STL 분해를 적용\n",
    "    # 그 외 -> 지수평활모델 적용\n",
    "    #\n",
    "    \n",
    "    # STL 분해를 적용한 지수평활 model\n",
    "    if data_len > 24:\n",
    "        forecast = stlm(train)\n",
    "        \n",
    "    # 지수평활 model\n",
    "    else:\n",
    "        forecast = ets(train)  \n",
    "        \n",
    "    # 3개월 매출을 합산, final_pred에 추가\n",
    "    final_pred.append(np.sum(pandas2ri.ri2py(forecast).values))"
   ]
  },
  {
   "cell_type": "markdown",
   "id": "cee7653a",
   "metadata": {},
   "source": [
    "-  s.windows: 계절 윈도우 / t.windows: 추세 윈도우\n",
    "- 계절 및 추세성분이 변하는 '정도'를 조절할 수 있으며, 값이 작을수록 급격하게 변함\n",
    "- 인자 값은 둘 다 홀수여야 함\n",
    "- s.windows는 기본 설정값이 없기 때문에 값을 설정해줘야 함. \" s.windows='periodic \" -> 계절 성분을 주기적으로 고정\n",
    "- t.windows는 기본 설정값이 있기 때문에 값을 정하는 것은 선택사항임"
   ]
  },
  {
   "cell_type": "code",
   "execution_count": 83,
   "id": "03c981cd",
   "metadata": {},
   "outputs": [
    {
     "data": {
      "text/html": [
       "<div>\n",
       "<style scoped>\n",
       "    .dataframe tbody tr th:only-of-type {\n",
       "        vertical-align: middle;\n",
       "    }\n",
       "\n",
       "    .dataframe tbody tr th {\n",
       "        vertical-align: top;\n",
       "    }\n",
       "\n",
       "    .dataframe thead th {\n",
       "        text-align: right;\n",
       "    }\n",
       "</style>\n",
       "<table border=\"1\" class=\"dataframe\">\n",
       "  <thead>\n",
       "    <tr style=\"text-align: right;\">\n",
       "      <th></th>\n",
       "      <th>store_id</th>\n",
       "      <th>amount</th>\n",
       "    </tr>\n",
       "  </thead>\n",
       "  <tbody>\n",
       "    <tr>\n",
       "      <td>0</td>\n",
       "      <td>0</td>\n",
       "      <td>2.094277e+06</td>\n",
       "    </tr>\n",
       "    <tr>\n",
       "      <td>1</td>\n",
       "      <td>1</td>\n",
       "      <td>2.774723e+05</td>\n",
       "    </tr>\n",
       "    <tr>\n",
       "      <td>2</td>\n",
       "      <td>2</td>\n",
       "      <td>1.164701e+06</td>\n",
       "    </tr>\n",
       "    <tr>\n",
       "      <td>3</td>\n",
       "      <td>4</td>\n",
       "      <td>2.750955e+06</td>\n",
       "    </tr>\n",
       "    <tr>\n",
       "      <td>4</td>\n",
       "      <td>5</td>\n",
       "      <td>9.395993e+05</td>\n",
       "    </tr>\n",
       "    <tr>\n",
       "      <td>...</td>\n",
       "      <td>...</td>\n",
       "      <td>...</td>\n",
       "    </tr>\n",
       "    <tr>\n",
       "      <td>1962</td>\n",
       "      <td>2132</td>\n",
       "      <td>2.138210e+06</td>\n",
       "    </tr>\n",
       "    <tr>\n",
       "      <td>1963</td>\n",
       "      <td>2133</td>\n",
       "      <td>8.242583e+05</td>\n",
       "    </tr>\n",
       "    <tr>\n",
       "      <td>1964</td>\n",
       "      <td>2134</td>\n",
       "      <td>4.061268e+05</td>\n",
       "    </tr>\n",
       "    <tr>\n",
       "      <td>1965</td>\n",
       "      <td>2135</td>\n",
       "      <td>1.578473e+06</td>\n",
       "    </tr>\n",
       "    <tr>\n",
       "      <td>1966</td>\n",
       "      <td>2136</td>\n",
       "      <td>6.469047e+06</td>\n",
       "    </tr>\n",
       "  </tbody>\n",
       "</table>\n",
       "<p>1967 rows × 2 columns</p>\n",
       "</div>"
      ],
      "text/plain": [
       "      store_id        amount\n",
       "0            0  2.094277e+06\n",
       "1            1  2.774723e+05\n",
       "2            2  1.164701e+06\n",
       "3            4  2.750955e+06\n",
       "4            5  9.395993e+05\n",
       "...        ...           ...\n",
       "1962      2132  2.138210e+06\n",
       "1963      2133  8.242583e+05\n",
       "1964      2134  4.061268e+05\n",
       "1965      2135  1.578473e+06\n",
       "1966      2136  6.469047e+06\n",
       "\n",
       "[1967 rows x 2 columns]"
      ]
     },
     "execution_count": 83,
     "metadata": {},
     "output_type": "execute_result"
    }
   ],
   "source": [
    "submission = pd.read_csv('./submission.csv')\n",
    "submission['amount'] = final_pred\n",
    "submission.to_csv('submission.csv', index=False)\n",
    "submission"
   ]
  },
  {
   "cell_type": "markdown",
   "id": "bab41a23",
   "metadata": {},
   "source": [
    "#### -> 완성된 제출 파일을 데이콘에 제출 & 리더보드 점수 확인 -> 21등 (869,178점)\n",
    "    ( 앞에서 진행했던 ARIMA 모델과 지수평활법 모델보다 낮은 점수)"
   ]
  },
  {
   "cell_type": "markdown",
   "id": "0859f3ce",
   "metadata": {},
   "source": [
    "#### [예측 성능 평가 결과]\n",
    "지수평활법 > ARIMA > STL 분해를 적용한 지수평활법"
   ]
  },
  {
   "cell_type": "markdown",
   "id": "44c5b98f",
   "metadata": {},
   "source": [
    "성능평가 순위 | 모델 | 리더보드 순위 | 점수\n",
    ":--------:|:--------:|:--------:|:--------:|\n",
    "1위 | 지수평활법 | 10위 | 794,263점\n",
    "2위 | ARIMA | 18위 | 844,384점\n",
    "3위 | STL분해 | 21위 | 869,178점"
   ]
  },
  {
   "cell_type": "markdown",
   "id": "91200fa3",
   "metadata": {},
   "source": [
    "## 5. 성능 향상을 위한 방법"
   ]
  },
  {
   "cell_type": "markdown",
   "id": "ec1ea57b",
   "metadata": {},
   "source": [
    "1) 데이터 전처리를 통한 성능향상\n",
    "#### --> 로그 정규화<br>\n",
    "2) 여러 모델을 결합해서 예측을 시도하는 앙상블\n",
    "#### --> ARIMA, 지수평활법, STL 분해를 적용항 지수평활법의 앙상블 예측 진행<br>"
   ]
  },
  {
   "cell_type": "markdown",
   "id": "bb6b1fd5",
   "metadata": {},
   "source": [
    "### 5-1. 상점 매출액의 로그 정규화"
   ]
  },
  {
   "cell_type": "markdown",
   "id": "4beee17d",
   "metadata": {},
   "source": [
    "#### 로그 정규화를 하는 이유: 매출액의 작은 변동을 안정화 하여, 더 큰 트렌드를 파악하기 위함"
   ]
  },
  {
   "cell_type": "markdown",
   "id": "dae1a805",
   "metadata": {},
   "source": [
    "예시> store_id가 0번인 상점의 매출액에 대해 로그 정규화 진행 & ARIMA모델의 예측 성능에 차이가 있는지 비교"
   ]
  },
  {
   "cell_type": "code",
   "execution_count": 87,
   "id": "08b2ff19",
   "metadata": {},
   "outputs": [
    {
     "name": "stdout",
     "output_type": "stream",
     "text": [
      "    store_id year_month        amount\n",
      "0          0    2016-06  7.470000e+05\n",
      "1          0    2016-07  1.005000e+06\n",
      "2          0    2016-08  8.697143e+05\n",
      "3          0    2016-09  8.978571e+05\n",
      "4          0    2016-10  8.354286e+05\n",
      "5          0    2016-11  6.970000e+05\n",
      "6          0    2016-12  7.618571e+05\n",
      "7          0    2017-01  5.856429e+05\n",
      "8          0    2017-02  7.940000e+05\n",
      "9          0    2017-03  7.202571e+05\n",
      "10         0    2017-04  6.852857e+05\n",
      "11         0    2017-05  7.444286e+05\n",
      "12         0    2017-06  6.820000e+05\n",
      "13         0    2017-07  7.282857e+05\n",
      "14         0    2017-08  7.490000e+05\n",
      "15         0    2017-09  8.408571e+05\n",
      "16         0    2017-10  6.005714e+05\n",
      "17         0    2017-11  6.308571e+05\n",
      "18         0    2017-12  8.127143e+05\n",
      "19         0    2018-01  6.431429e+05\n",
      "20         0    2018-02  6.852857e+05\n",
      "21         0    2018-03  8.484286e+05\n",
      "22         0    2018-04  6.361429e+05\n",
      "23         0    2018-05  6.864286e+05\n",
      "24         0    2018-06  7.072857e+05\n",
      "25         0    2018-07  7.587143e+05\n",
      "26         0    2018-08  6.798571e+05\n",
      "27         0    2018-09  6.518571e+05\n",
      "28         0    2018-10  7.390000e+05\n",
      "29         0    2018-11  6.760000e+05\n",
      "30         0    2018-12  8.745714e+05\n",
      "31         0    2019-01  6.828571e+05\n",
      "32         0    2019-02  5.152857e+05\n",
      "------------------------------\n",
      "33\n"
     ]
    }
   ],
   "source": [
    "import rpy2.robjects as robjects # r 함수를 파이썬에서 사용 가능하게 변환하는 모듈\n",
    "from rpy2.robjects import pandas2ri # 파이썬 자료형과 R 자료형의 호환을 도와주는 모듈\n",
    "import numpy as np\n",
    "\n",
    "# pandas2ri를 활성화 \n",
    "pandas2ri.activate()\n",
    "\n",
    "# auto_arima 함수 정의 (Str형식 & r코드)\n",
    "auto_arima = \"\"\"\n",
    "    function(ts){\n",
    "        library(forecast)                             # forecast 패키지 로드\n",
    "        d_params = ndiffs(ts)                         # 시계열 자료의 차분 횟수 계산\n",
    "        model = auto.arima(ts, max.p=2, d=d_params)   # auto.arima 모델 생성\n",
    "        forecasted_data = forecast(model, h=3)        # 이후 3개월(h=3)을 예측\n",
    "        out_df = data.frame(forecasted_data$mean)     # 예측값을 R의 데이터프레임으로 변환\n",
    "        colnames(out_df) = c('amount')                # amount라는 열로 이름을 지정\n",
    "        out_df                                        # 예측값 반환\n",
    "    }\n",
    "\"\"\"\n",
    "\n",
    "# r() 함수로 r 자료형을 파이썬에서 사용 가능\n",
    "auto_arima = robjects.r(auto_arima)\n",
    "ts = robjects.r('ts')   # r 자료형 time series 자료형으로 만들어주는 함수\n",
    "c = robjects.r('c')     # r 자료형 벡터를 만들어주는 함수\n",
    "log = robjects.r('log') # 로그 변환 함수\n",
    "exp = robjects.r('exp') # 로그 역변환 함수\n",
    "\n",
    "# 0번 상점 추출\n",
    "store_0 = resampling_data[resampling_data['store_id']==0]\n",
    "start_year = int(min(store_0['year_month'])[:4]) # 영업 시작 년도\n",
    "start_month = int(min(store_0['year_month'])[5:]) # 영업 시작 월\n",
    "\n",
    "print(store_0)\n",
    "print('-'*30)\n",
    "print(len(store_0))"
   ]
  },
  {
   "cell_type": "code",
   "execution_count": 88,
   "id": "177d0d8b",
   "metadata": {},
   "outputs": [
    {
     "name": "stdout",
     "output_type": "stream",
     "text": [
      "log-regularization mae:  2401.9664819482714\n",
      "mae: 5884.674066892825\n"
     ]
    }
   ],
   "source": [
    "# train, test 분리\n",
    "# 2018년 12월 이전 -> train\n",
    "# 2018년 12월 부터 -> test\n",
    "train = store_0[store_0.index <= len(store_0)-4]\n",
    "test = store_0[store_0.index > len(store_0)-4]\n",
    "\n",
    "# R의 ts 함수로 r의 time series 자료형으로 변환\n",
    "# numpy의 log()함수를 이용하여 로그정규화\n",
    "train_log = ts(log(train['amount']), start=c(start_year, start_month), frequency=12) # log 정규화 \n",
    "train = ts(train['amount'], start=c(start_year, start_month), frequency=12) # log 정규화를 하지 않음\n",
    "\n",
    "# model arima\n",
    "forecast_log = auto_arima(train_log)\n",
    "forecast = auto_arima(train)\n",
    "\n",
    "# pred\n",
    "pred_log = np.sum(pandas2ri.ri2py(exp(forecast_log)).values) #로그 역변환 후 3개월 합산\n",
    "pred = np.sum(pandas2ri.ri2py(forecast).values) #3개월 매출을 합산\n",
    "\n",
    "# test(2018-12~2019-02)\n",
    "test = np.sum(test['amount'])\n",
    "\n",
    "# mae\n",
    "print('log-regularization mae: ', abs(test-pred_log))\n",
    "print('mae:', abs(test-pred))"
   ]
  },
  {
   "cell_type": "markdown",
   "id": "ce794ff7",
   "metadata": {},
   "source": [
    "손실함수는 대회 평가척도인 MAE를 사용<br>\n",
    "log 정규화를 했을때의 MAE가 더 적은 것을 확인할 수 있으며, 성능이 더 우수하다고 할 수 있다."
   ]
  },
  {
   "attachments": {
    "image.png": {
     "image/png": "[encoded data removed]"
    }
   },
   "cell_type": "markdown",
   "id": "b228bc1c",
   "metadata": {},
   "source": [
    "#### MAE ( Mean Average Error)\n",
    "- 실제 값과 예측값의 차이(Error)를 절대값으로 변환해서 평균화\n",
    "- 에러에 절대값을 취하기 때문에, 에러의 크기가 그대로 반영된다.\n",
    "- 에러에 따른 손실이 선형적으로 올라갈 때 적합\n",
    "- 이상치가 많을 때 사용\n",
    "![image.png](attachment:image.png)"
   ]
  },
  {
   "cell_type": "markdown",
   "id": "4f8a6dd4",
   "metadata": {},
   "source": [
    "#### 매출액 변동계수를 고려해 로그 정규화를 진행"
   ]
  },
  {
   "cell_type": "markdown",
   "id": "8e293e12",
   "metadata": {},
   "source": [
    "#### 변동계수 (Coefficient of Variation; CV)  \n",
    "- 표준편차를 평균으로 나눈 지표  \n",
    "- 변동 계수의 값이 클수록 상대적인 차이가 크다는 것을 의미  \n",
    "### $ CV = \\frac \\sigma {\\overline x} $"
   ]
  },
  {
   "cell_type": "markdown",
   "id": "5c922153",
   "metadata": {},
   "source": [
    "<b>- 매출액 변동계수가 높은 상점을 로그 정규화했을 때 예측 성능이 저하되는 것을 발견  \n",
    "<b>- 매출액 변동계수가 0.3 미만인 상점만 로그 정규화를 진행하여 예측  \n",
    "#### 가장 성능이 좋았던 지수평활법을 이용해 변동계수를 고려해서 로그 정규화 한 후 예측값 생성  "
   ]
  },
  {
   "cell_type": "code",
   "execution_count": 89,
   "id": "bb6aa2f3",
   "metadata": {},
   "outputs": [],
   "source": [
    "# 매출 변동 계수를 구하는 함수\n",
    "def coefficient_variation(df, i):\n",
    "    cv_data = df.groupby(['store_id']).amount.std()/df.groupby(['store_id']).amount.mean()\n",
    "    cv = cv_data[i]\n",
    "    return cv  # 상점별 변동계수를 반환"
   ]
  },
  {
   "cell_type": "code",
   "execution_count": 90,
   "id": "c9cb54a3",
   "metadata": {},
   "outputs": [
    {
     "name": "stderr",
     "output_type": "stream",
     "text": [
      "100%|██████████████████████████████████████████████████████████████████████████████| 1967/1967 [18:41<00:00,  1.75it/s]\n"
     ]
    }
   ],
   "source": [
    "import rpy2.robjects as robjects # r 함수를 파이썬에서 사용 가능하게 변환하는 모듈\n",
    "from rpy2.robjects import pandas2ri # 파이썬 자료형과 R 자료형의 호환을 도와주는 모듈\n",
    "import numpy as np\n",
    "\n",
    "# pandas2ri를 활성화 \n",
    "pandas2ri.activate()\n",
    "\n",
    "# ets 함수 정의 (Str형식 & r코드)\n",
    "ets = \"\"\"\n",
    "    function(ts){\n",
    "        library(forecast)                             # forecast 패키지 로드\n",
    "        model = ets(ts)                               # AIC가 낮은 지수평활 모델을 찾음 \n",
    "        forecasted_data = forecast(model, h=3)        # 이후 3개월(h=3)을 예측\n",
    "        out_df = data.frame(forecasted_data$mean)     # 예측값을 R의 데이터프레임으로 변환\n",
    "        colnames(out_df) = c('amount')                # amount라는 열로 이름을 지정\n",
    "        out_df                                        # 예측값 반환\n",
    "    }\n",
    "\"\"\"\n",
    "\n",
    "# r() 함수로 r 자료형을 파이썬에서 사용 가능\n",
    "ets = robjects.r(ets)\n",
    "ts = robjects.r('ts') # r 자료형 time series 자료형으로 만들어주는 함수\n",
    "c = robjects.r('c') # r 자료형 벡터를 만들어주는 함수\n",
    "log = robjects.r('log') # 로그 변환 함수\n",
    "exp = robjects.r('exp')# 로그 역변환 함수\n",
    "\n",
    "final_pred = []\n",
    "\n",
    "for i in tqdm(resampling_data.store_id.unique()):\n",
    "    store = resampling_data[resampling_data['store_id']==i]\n",
    "    start_year = int(min(store['year_month'])[:4]) # 영업 시작 년도\n",
    "    start_month = int(min(store['year_month'])[5:]) # 영업 시작 월\n",
    "    \n",
    "    # 매출의 변동계수 구하는 함수 실행 (상점별)\n",
    "    cv = coefficient_variation(resampling_data, i)\n",
    "    \n",
    "    \n",
    "    # 매출액 변동 계수가 0.3 미만인 경우만 log를 씌움\n",
    "    if cv < 0.3:\n",
    "        # R의 ts 함수로 time series 데이터로 변환\n",
    "        # 로그 정규화\n",
    "        train_log = ts(log(store['amount']), start=c(start_year,start_month), frequency=12)\n",
    "        \n",
    "        # ets model (가장 적합한 지수평활 모델 찾아서 예측)\n",
    "        forecast_log = ets(train_log)\n",
    "        \n",
    "        # 예측값을 로그 역변환해서 final_pred 리스트에 추가\n",
    "        final_pred.append(np.sum(pandas2ri.ri2py(exp(forecast_log)).values))\n",
    "        \n",
    "    # 매출액 변동 계수가 0.3 이상인 경우\n",
    "    else:\n",
    "        # R의 ts 함수로 time series 데이터로 변환\n",
    "        train = ts(store['amount'], start=c(start_year,start_month), frequency=12)\n",
    "        \n",
    "        # 지수평활법\n",
    "        forecast = ets(train)\n",
    "        final_pred.append(np.sum(pandas2ri.ri2py(forecast).values))"
   ]
  },
  {
   "cell_type": "code",
   "execution_count": 92,
   "id": "974ca338",
   "metadata": {},
   "outputs": [
    {
     "data": {
      "text/html": [
       "<div>\n",
       "<style scoped>\n",
       "    .dataframe tbody tr th:only-of-type {\n",
       "        vertical-align: middle;\n",
       "    }\n",
       "\n",
       "    .dataframe tbody tr th {\n",
       "        vertical-align: top;\n",
       "    }\n",
       "\n",
       "    .dataframe thead th {\n",
       "        text-align: right;\n",
       "    }\n",
       "</style>\n",
       "<table border=\"1\" class=\"dataframe\">\n",
       "  <thead>\n",
       "    <tr style=\"text-align: right;\">\n",
       "      <th></th>\n",
       "      <th>store_id</th>\n",
       "      <th>amount</th>\n",
       "    </tr>\n",
       "  </thead>\n",
       "  <tbody>\n",
       "    <tr>\n",
       "      <td>0</td>\n",
       "      <td>0</td>\n",
       "      <td>1.963401e+06</td>\n",
       "    </tr>\n",
       "    <tr>\n",
       "      <td>1</td>\n",
       "      <td>1</td>\n",
       "      <td>2.483335e+05</td>\n",
       "    </tr>\n",
       "    <tr>\n",
       "      <td>2</td>\n",
       "      <td>2</td>\n",
       "      <td>1.260318e+06</td>\n",
       "    </tr>\n",
       "    <tr>\n",
       "      <td>3</td>\n",
       "      <td>4</td>\n",
       "      <td>2.660373e+06</td>\n",
       "    </tr>\n",
       "    <tr>\n",
       "      <td>4</td>\n",
       "      <td>5</td>\n",
       "      <td>7.091162e+05</td>\n",
       "    </tr>\n",
       "    <tr>\n",
       "      <td>...</td>\n",
       "      <td>...</td>\n",
       "      <td>...</td>\n",
       "    </tr>\n",
       "    <tr>\n",
       "      <td>1962</td>\n",
       "      <td>2132</td>\n",
       "      <td>2.122653e+06</td>\n",
       "    </tr>\n",
       "    <tr>\n",
       "      <td>1963</td>\n",
       "      <td>2133</td>\n",
       "      <td>3.488475e+05</td>\n",
       "    </tr>\n",
       "    <tr>\n",
       "      <td>1964</td>\n",
       "      <td>2134</td>\n",
       "      <td>4.249576e+05</td>\n",
       "    </tr>\n",
       "    <tr>\n",
       "      <td>1965</td>\n",
       "      <td>2135</td>\n",
       "      <td>1.603989e+06</td>\n",
       "    </tr>\n",
       "    <tr>\n",
       "      <td>1966</td>\n",
       "      <td>2136</td>\n",
       "      <td>6.504026e+06</td>\n",
       "    </tr>\n",
       "  </tbody>\n",
       "</table>\n",
       "<p>1967 rows × 2 columns</p>\n",
       "</div>"
      ],
      "text/plain": [
       "      store_id        amount\n",
       "0            0  1.963401e+06\n",
       "1            1  2.483335e+05\n",
       "2            2  1.260318e+06\n",
       "3            4  2.660373e+06\n",
       "4            5  7.091162e+05\n",
       "...        ...           ...\n",
       "1962      2132  2.122653e+06\n",
       "1963      2133  3.488475e+05\n",
       "1964      2134  4.249576e+05\n",
       "1965      2135  1.603989e+06\n",
       "1966      2136  6.504026e+06\n",
       "\n",
       "[1967 rows x 2 columns]"
      ]
     },
     "execution_count": 92,
     "metadata": {},
     "output_type": "execute_result"
    }
   ],
   "source": [
    "submission = pd.read_csv('./submission.csv')\n",
    "submission['amount'] = final_pred\n",
    "submission.to_csv('submission.csv', index=False)\n",
    "submission"
   ]
  },
  {
   "cell_type": "markdown",
   "id": "9a255598",
   "metadata": {},
   "source": [
    "성능평가 순위 | 모델 | 리더보드 순위 | 점수\n",
    ":--------:|:--------:|:--------:|:--------:|\n",
    "1위 | 지수평활법 + 로그정규화 |  | 793,546점\n",
    "2위 | 지수평활법 | 10위 | 794,263점\n",
    "3위 | ARIMA | 18위 | 844,384점\n",
    "4위 | STL분해 | 21위 | 869,178점"
   ]
  },
  {
   "cell_type": "markdown",
   "id": "399fb65c",
   "metadata": {},
   "source": [
    "### 5-2. 파이썬에서 R 시계열 패키지 forecastHybrid를 통한 앙상블"
   ]
  },
  {
   "cell_type": "markdown",
   "id": "df730614",
   "metadata": {},
   "source": [
    "#### 평균 앙상블\n",
    "- ARIMA, 지수평활법, STL 분해를 적용한 지수평활법으로  \n",
    "    3개의 예측치를 생성한 다음, 평균값을 구해 최종 매출액을 계산.\n",
    "- 앙상블은 여러 모델을 결합해서 예측하는 것이므로, 과적합을 방지하는 효과가 있음\n",
    "- 개별모델의 성능이 잘 안나올 때 앙상블을 이용하면 성능 향상을 이룰 수 있음\n",
    "- R의 forecastHybrid 패키지를 통해 시계열 모델에 대한 앙상블 손쉽게 할 수 있음"
   ]
  },
  {
   "cell_type": "code",
   "execution_count": 93,
   "id": "73ab44a3",
   "metadata": {},
   "outputs": [
    {
     "name": "stderr",
     "output_type": "stream",
     "text": [
      "100%|██████████████████████████████████████████████████████████████████████████████| 1967/1967 [22:48<00:00,  1.44it/s]\n"
     ]
    }
   ],
   "source": [
    "import rpy2.robjects as robjects # r 함수를 파이썬에서 사용 가능하게 변환하는 모듈\n",
    "from rpy2.robjects import pandas2ri # 파이썬 자료형과 R 자료형의 호환을 도와주는 모듈\n",
    "import numpy as np\n",
    "\n",
    "# pandas2ri를 활성화 \n",
    "pandas2ri.activate()\n",
    "\n",
    "# hybridModel 함수 정의 (Str형식 & r코드)\n",
    "hybridModel = \"\"\"\n",
    "    function(ts){\n",
    "        library(forecast)                                   # forecast 패키지 로드\n",
    "        library(forecastHybrid)                             # forecastHybrid 패키지 로드\n",
    "        d_params=ndiffs(ts)                                 # 시계열 자료의 차분 횟수 계산\n",
    "        \n",
    "        hb_mdl<-hybridModel(ts, models=\"aes\",               # auto_arima, ets, stlm\n",
    "                        a.arg=list(max.p=2, d=d_params),    # auto_arima parameter\n",
    "                        weight=\"equal\")                     # 가중치를 동일하게 줌(평균)\n",
    "        forecasted_data<-forecast(hb_mdl, h=3)              # 이후 3개월(h=3)을 예측\n",
    "        outdf<-data.frame(forecasted_data$mean)             # 예측값을 R의 데이터프레임으로 변환\n",
    "        colnames(outdf)<-c('amount')                        # amount라는 열로 이름을 지정\n",
    "        outdf                                               # 예측값 반환\n",
    "    }\n",
    "\"\"\" \n",
    "\n",
    "# r() 함수로 r 자료형을 파이썬에서 사용 가능\n",
    "hybridModel = robjects.r(hybridModel)\n",
    "ts = robjects.r('ts') # r 자료형 time series 자료형으로 만들어주는 함수\n",
    "c = robjects.r('c') # r 자료형 벡터를 만들어주는 함수\n",
    "log = robjects.r('log') # 로그 변환 함수\n",
    "exp = robjects.r('exp')# 로그 역변환 함수\n",
    "\n",
    "final_pred = []\n",
    "\n",
    "for i in tqdm(resampling_data.store_id.unique()):\n",
    "    store = resampling_data[resampling_data['store_id']==i]\n",
    "    start_year = int(min(store['year_month'])[:4]) # 영업 시작 년도\n",
    "    start_month = int(min(store['year_month'])[5:]) # 영업 시작 월\n",
    "    \n",
    "    # 매출의 변동계수 구하는 함수 실행 (상점별)\n",
    "    cv = coefficient_variation(resampling_data, i)\n",
    "    \n",
    "    # 매출액 변동 계수가 0.3 미만인 경우만 log를 씌움\n",
    "    if cv < 0.3:\n",
    "        # R의 ts 함수로 time series 데이터로 변환\n",
    "        # 로그 정규화\n",
    "        train_log = ts(log(store['amount']), start=c(start_year,start_month), frequency=12)\n",
    "        \n",
    "        # 앙상블 예측\n",
    "        forecast_log = hybridModel(train_log)\n",
    "        \n",
    "        # 예측값을 로그 역변환해서 final_pred 리스트에 추가\n",
    "        final_pred.append(np.sum(pandas2ri.ri2py(exp(forecast_log)).values)) \n",
    "        \n",
    "    # 매출액 변동 계수가 0.3 이상인 경우\n",
    "    else:\n",
    "        # R의 ts 함수로 time series 데이터로 변환\n",
    "        train = ts(store['amount'], start=c(start_year,start_month), frequency=12)\n",
    "        \n",
    "        # 앙상블 예측\n",
    "        forecast = hybridModel(train)\n",
    "        \n",
    "        # ri2py를 사용하여 예측값의 형변환(R 데이터프레임 -> 파이썬) & 리스트에 추가\n",
    "        final_pred.append(np.sum(pandas2ri.ri2py(forecast).values))"
   ]
  },
  {
   "cell_type": "markdown",
   "id": "117223c6",
   "metadata": {},
   "source": [
    "#### hybridModel() 함수\n",
    "- 첫번째 인자로 R의 time series 자료형을 받는다.\n",
    "- models에 넘겨준 인자 aes는 앙상블 할 모델을 설정하는 인자로,  \n",
    "    forecast에 있는 함수 auto.arima, ets, stlm의 앞글자를 따서 합쳐놓은 것\n",
    "- ARIMA, 지수평활법, STL 분해를 적용한 지수평활법을 이용하여 앙상블을 진행할때에는 인자로 aes를 설정하면 됨.\n",
    "- a.arg 인자는 atuo.arima의 파라미터를 설정하는 인자\n",
    "- weight 인자에 'equal'을 넘겨주면 동일한 가중치로 예측을 진행함\n",
    "- 로그 정규화는 변동 계수가 0.3 미만인 경우에 진행\n",
    "- 최종 예측치를 hybridModel 함수를 사용하여 생성"
   ]
  },
  {
   "cell_type": "code",
   "execution_count": 94,
   "id": "761efbd6",
   "metadata": {},
   "outputs": [
    {
     "data": {
      "text/html": [
       "<div>\n",
       "<style scoped>\n",
       "    .dataframe tbody tr th:only-of-type {\n",
       "        vertical-align: middle;\n",
       "    }\n",
       "\n",
       "    .dataframe tbody tr th {\n",
       "        vertical-align: top;\n",
       "    }\n",
       "\n",
       "    .dataframe thead th {\n",
       "        text-align: right;\n",
       "    }\n",
       "</style>\n",
       "<table border=\"1\" class=\"dataframe\">\n",
       "  <thead>\n",
       "    <tr style=\"text-align: right;\">\n",
       "      <th></th>\n",
       "      <th>store_id</th>\n",
       "      <th>amount</th>\n",
       "    </tr>\n",
       "  </thead>\n",
       "  <tbody>\n",
       "    <tr>\n",
       "      <td>0</td>\n",
       "      <td>0</td>\n",
       "      <td>1.996290e+06</td>\n",
       "    </tr>\n",
       "    <tr>\n",
       "      <td>1</td>\n",
       "      <td>1</td>\n",
       "      <td>2.653045e+05</td>\n",
       "    </tr>\n",
       "    <tr>\n",
       "      <td>2</td>\n",
       "      <td>2</td>\n",
       "      <td>1.240681e+06</td>\n",
       "    </tr>\n",
       "    <tr>\n",
       "      <td>3</td>\n",
       "      <td>4</td>\n",
       "      <td>2.695279e+06</td>\n",
       "    </tr>\n",
       "    <tr>\n",
       "      <td>4</td>\n",
       "      <td>5</td>\n",
       "      <td>8.240620e+05</td>\n",
       "    </tr>\n",
       "    <tr>\n",
       "      <td>...</td>\n",
       "      <td>...</td>\n",
       "      <td>...</td>\n",
       "    </tr>\n",
       "    <tr>\n",
       "      <td>1962</td>\n",
       "      <td>2132</td>\n",
       "      <td>2.115933e+06</td>\n",
       "    </tr>\n",
       "    <tr>\n",
       "      <td>1963</td>\n",
       "      <td>2133</td>\n",
       "      <td>6.311052e+05</td>\n",
       "    </tr>\n",
       "    <tr>\n",
       "      <td>1964</td>\n",
       "      <td>2134</td>\n",
       "      <td>3.021292e+05</td>\n",
       "    </tr>\n",
       "    <tr>\n",
       "      <td>1965</td>\n",
       "      <td>2135</td>\n",
       "      <td>1.626442e+06</td>\n",
       "    </tr>\n",
       "    <tr>\n",
       "      <td>1966</td>\n",
       "      <td>2136</td>\n",
       "      <td>6.504046e+06</td>\n",
       "    </tr>\n",
       "  </tbody>\n",
       "</table>\n",
       "<p>1967 rows × 2 columns</p>\n",
       "</div>"
      ],
      "text/plain": [
       "      store_id        amount\n",
       "0            0  1.996290e+06\n",
       "1            1  2.653045e+05\n",
       "2            2  1.240681e+06\n",
       "3            4  2.695279e+06\n",
       "4            5  8.240620e+05\n",
       "...        ...           ...\n",
       "1962      2132  2.115933e+06\n",
       "1963      2133  6.311052e+05\n",
       "1964      2134  3.021292e+05\n",
       "1965      2135  1.626442e+06\n",
       "1966      2136  6.504046e+06\n",
       "\n",
       "[1967 rows x 2 columns]"
      ]
     },
     "execution_count": 94,
     "metadata": {},
     "output_type": "execute_result"
    }
   ],
   "source": [
    "submission = pd.read_csv('./submission.csv')\n",
    "submission['amount'] = final_pred\n",
    "submission.to_csv('submission.csv', index=False)\n",
    "submission"
   ]
  },
  {
   "cell_type": "markdown",
   "id": "441c6ca7",
   "metadata": {},
   "source": [
    "성능평가 순위 | 모델 | 리더보드 순위 | 점수\n",
    ":--------:|:--------:|:--------:|:--------:|\n",
    "1위 | **앙상블(aes)** |  | **741,880점**\n",
    "2위 | 지수평활법 + 로그정규화 |  | 793,546점\n",
    "3위 | 지수평활법 | 10위 | 794,263점\n",
    "4위 | ARIMA | 18위 | 844,384점\n",
    "5위 | STL분해 | 21위 | 869,178점"
   ]
  },
  {
   "cell_type": "code",
   "execution_count": null,
   "id": "ceb08842",
   "metadata": {},
   "outputs": [],
   "source": []
  },
  {
   "cell_type": "code",
   "execution_count": null,
   "id": "be31e03b",
   "metadata": {},
   "outputs": [],
   "source": []
  },
  {
   "cell_type": "code",
   "execution_count": null,
   "id": "b642375f",
   "metadata": {},
   "outputs": [],
   "source": []
  },
  {
   "cell_type": "code",
   "execution_count": null,
   "id": "c4920a5c",
   "metadata": {},
   "outputs": [],
   "source": []
  }
 ],
 "metadata": {
  "kernelspec": {
   "display_name": "[store_amount_prediction]",
   "language": "python",
   "name": "store_amount_prediction"
  },
  "language_info": {
   "codemirror_mode": {
    "name": "ipython",
    "version": 3
   },
   "file_extension": ".py",
   "mimetype": "text/x-python",
   "name": "python",
   "nbconvert_exporter": "python",
   "pygments_lexer": "ipython3",
   "version": "3.7.10"
  }
 },
 "nbformat": 4,
 "nbformat_minor": 5
}
